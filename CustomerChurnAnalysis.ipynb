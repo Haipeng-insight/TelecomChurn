{
 "cells": [
  {
   "cell_type": "markdown",
   "id": "d3026692",
   "metadata": {},
   "source": [
    "## Project description \n",
    "The main idea is  to predict the churn of the US telecom customer and prevent the abandon of the customer using data exploring, data preprocessing, model selection and fine-tuned model. \n",
    "\n",
    "The data set consists  of 3,333 records and 21 features which include 15 continuous and 6 categorical features.Since the data quality in this small data set is good, the main tasks focus on  data exploring, feature engineering and model selection and tuning. \n",
    "\n",
    "Among above steps, the feature engineering and creating an ensemble of models are important factors in this project to improve the predictive performance.The final fine-tuned model improves the f1 score by 36.4% compared to the baseline model.\n",
    "\n",
    "Through the final model, we can find that Vmail_plan, Total_Charges, CustServ_Calls are as the most important indicators of churn. \n",
    "\n",
    "Next step: The current version of the analysis does not include 'state' information in the model. However, during the data exploration process, we found that 12 states, such as NJ, CA, and TX, have a churn rate of over 20%, which is significant higher than the average churn rate of 14%. In future versions of the analysis, we plan to incorporate this feature into the model"
   ]
  },
  {
   "cell_type": "markdown",
   "id": "be3e9d17",
   "metadata": {},
   "source": [
    "## Import packages and data"
   ]
  },
  {
   "cell_type": "code",
   "execution_count": 1,
   "id": "a249fb74",
   "metadata": {},
   "outputs": [],
   "source": [
    "\n",
    "from pathlib import Path\n",
    "import matplotlib.pyplot as plt\n",
    "%matplotlib inline \n",
    "import seaborn as sns\n",
    "import numpy as np\n",
    "import pandas as pd\n",
    "from numpy.random import randint\n",
    "from sklearn.preprocessing import StandardScaler\n",
    "from sklearn.model_selection import cross_val_score\n",
    "from sklearn.model_selection import train_test_split\n",
    "from sklearn.linear_model import LogisticRegression, SGDClassifier\n",
    "from sklearn.tree import DecisionTreeClassifier, ExtraTreeClassifier\n",
    "from sklearn.neighbors import KNeighborsClassifier\n",
    "from sklearn.svm import SVC\n",
    "from sklearn.ensemble import RandomForestClassifier, AdaBoostClassifier, GradientBoostingClassifier\n",
    "from sklearn.model_selection import GridSearchCV, RandomizedSearchCV\n",
    "from sklearn.metrics import accuracy_score,precision_score,recall_score,precision_recall_curve,roc_curve,f1_score\n",
    "from sklearn.pipeline import Pipeline\n",
    "from xgboost import XGBClassifier"
   ]
  },
  {
   "cell_type": "code",
   "execution_count": 2,
   "id": "a8c82967",
   "metadata": {},
   "outputs": [],
   "source": [
    "data_path =Path()/'datasets'/'TelcoChurn'\n",
    "data_file ='Churn.csv'"
   ]
  },
  {
   "cell_type": "code",
   "execution_count": 3,
   "id": "a6adc8f1",
   "metadata": {},
   "outputs": [],
   "source": [
    "telco = pd.read_csv(data_path/data_file)\n",
    "telco_orig= telco.copy()\n",
    "telco['Churn'] = telco['Churn'].replace({'yes':1,\"no\":0})\n",
    "X = telco.drop('Churn', axis=1)\n",
    "y= telco['Churn']\n",
    "\n",
    "X_train, X_test, y_train, y_test = train_test_split(X,y, test_size=0.2, random_state=42)"
   ]
  },
  {
   "cell_type": "markdown",
   "id": "f8678637",
   "metadata": {},
   "source": [
    "## Exploring the data"
   ]
  },
  {
   "cell_type": "markdown",
   "id": "dd248a0f",
   "metadata": {},
   "source": [
    "### Overview"
   ]
  },
  {
   "cell_type": "code",
   "execution_count": 4,
   "id": "741be094",
   "metadata": {},
   "outputs": [],
   "source": [
    "# create telco_train to do data exploring and data preprocessing test\n",
    "telco_train=pd.concat([X_train,y_train], axis=1)"
   ]
  },
  {
   "cell_type": "code",
   "execution_count": 5,
   "id": "6fbae88f",
   "metadata": {},
   "outputs": [
    {
     "name": "stdout",
     "output_type": "stream",
     "text": [
      "<class 'pandas.core.frame.DataFrame'>\n",
      "Int64Index: 2666 entries, 817 to 3174\n",
      "Data columns (total 21 columns):\n",
      " #   Column          Non-Null Count  Dtype  \n",
      "---  ------          --------------  -----  \n",
      " 0   Account_Length  2666 non-null   int64  \n",
      " 1   Vmail_Message   2666 non-null   int64  \n",
      " 2   Day_Mins        2666 non-null   float64\n",
      " 3   Eve_Mins        2666 non-null   float64\n",
      " 4   Night_Mins      2666 non-null   float64\n",
      " 5   Intl_Mins       2666 non-null   float64\n",
      " 6   CustServ_Calls  2666 non-null   int64  \n",
      " 7   Intl_Plan       2666 non-null   object \n",
      " 8   Vmail_Plan      2666 non-null   object \n",
      " 9   Day_Calls       2666 non-null   int64  \n",
      " 10  Day_Charge      2666 non-null   float64\n",
      " 11  Eve_Calls       2666 non-null   int64  \n",
      " 12  Eve_Charge      2666 non-null   float64\n",
      " 13  Night_Calls     2666 non-null   int64  \n",
      " 14  Night_Charge    2666 non-null   float64\n",
      " 15  Intl_Calls      2666 non-null   int64  \n",
      " 16  Intl_Charge     2666 non-null   float64\n",
      " 17  State           2666 non-null   object \n",
      " 18  Area_Code       2666 non-null   int64  \n",
      " 19  Phone           2666 non-null   object \n",
      " 20  Churn           2666 non-null   int64  \n",
      "dtypes: float64(8), int64(9), object(4)\n",
      "memory usage: 458.2+ KB\n"
     ]
    }
   ],
   "source": [
    "\n",
    "telco_train.info()"
   ]
  },
  {
   "cell_type": "code",
   "execution_count": 6,
   "id": "5c785a91",
   "metadata": {},
   "outputs": [
    {
     "data": {
      "text/plain": [
       "0    2284\n",
       "1     382\n",
       "Name: Churn, dtype: int64"
      ]
     },
     "execution_count": 6,
     "metadata": {},
     "output_type": "execute_result"
    }
   ],
   "source": [
    "telco_train.Churn.value_counts()"
   ]
  },
  {
   "cell_type": "code",
   "execution_count": 7,
   "id": "24291ce9",
   "metadata": {},
   "outputs": [
    {
     "name": "stdout",
     "output_type": "stream",
     "text": [
      "nonChurner:2284, Churner:382\n"
     ]
    },
    {
     "data": {
      "image/png": "[encoded data removed]",
      "text/plain": [
       "<Figure size 432x288 with 1 Axes>"
      ]
     },
     "metadata": {
      "needs_background": "light"
     },
     "output_type": "display_data"
    }
   ],
   "source": [
    "nonChurner, churner = telco_train.Churn.value_counts()[0], telco_train.Churn.value_counts()[1]\n",
    "nonChurner_rate, churner_rate = round(100*nonChurner/len(telco_train),4), round(100*churner/len(telco_train),4)\n",
    "print(f'nonChurner:{nonChurner}, Churner:{churner}')\n",
    "sns.countplot(x=telco_train.Churn)\n",
    "plt.xticks((0,1),['NonChurner({0:.2f}%)'.format(nonChurner_rate),'Churner({0:.2f}%)'.format(churner_rate) ])\n",
    "plt.title('Churn distribution')\n",
    "plt.show()"
   ]
  },
  {
   "cell_type": "code",
   "execution_count": 8,
   "id": "434dda72",
   "metadata": {},
   "outputs": [
    {
     "data": {
      "text/html": [
       "<div>\n",
       "<style scoped>\n",
       "    .dataframe tbody tr th:only-of-type {\n",
       "        vertical-align: middle;\n",
       "    }\n",
       "\n",
       "    .dataframe tbody tr th {\n",
       "        vertical-align: top;\n",
       "    }\n",
       "\n",
       "    .dataframe thead th {\n",
       "        text-align: right;\n",
       "    }\n",
       "</style>\n",
       "<table border=\"1\" class=\"dataframe\">\n",
       "  <thead>\n",
       "    <tr style=\"text-align: right;\">\n",
       "      <th></th>\n",
       "      <th>Account_Length</th>\n",
       "      <th>Vmail_Message</th>\n",
       "      <th>Day_Mins</th>\n",
       "      <th>Eve_Mins</th>\n",
       "      <th>Night_Mins</th>\n",
       "      <th>Intl_Mins</th>\n",
       "      <th>CustServ_Calls</th>\n",
       "      <th>Day_Calls</th>\n",
       "      <th>Day_Charge</th>\n",
       "      <th>Eve_Calls</th>\n",
       "      <th>Eve_Charge</th>\n",
       "      <th>Night_Calls</th>\n",
       "      <th>Night_Charge</th>\n",
       "      <th>Intl_Calls</th>\n",
       "      <th>Intl_Charge</th>\n",
       "      <th>Area_Code</th>\n",
       "      <th>Churn</th>\n",
       "    </tr>\n",
       "  </thead>\n",
       "  <tbody>\n",
       "    <tr>\n",
       "      <th>count</th>\n",
       "      <td>2666.000000</td>\n",
       "      <td>2666.000000</td>\n",
       "      <td>2666.000000</td>\n",
       "      <td>2666.000000</td>\n",
       "      <td>2666.00000</td>\n",
       "      <td>2666.000000</td>\n",
       "      <td>2666.000000</td>\n",
       "      <td>2666.000000</td>\n",
       "      <td>2666.000000</td>\n",
       "      <td>2666.000000</td>\n",
       "      <td>2666.000000</td>\n",
       "      <td>2666.000000</td>\n",
       "      <td>2666.000000</td>\n",
       "      <td>2666.000000</td>\n",
       "      <td>2666.000000</td>\n",
       "      <td>2666.000000</td>\n",
       "      <td>2666.000000</td>\n",
       "    </tr>\n",
       "    <tr>\n",
       "      <th>mean</th>\n",
       "      <td>100.691673</td>\n",
       "      <td>7.981245</td>\n",
       "      <td>179.600713</td>\n",
       "      <td>200.698500</td>\n",
       "      <td>200.52982</td>\n",
       "      <td>10.237547</td>\n",
       "      <td>1.573143</td>\n",
       "      <td>100.542761</td>\n",
       "      <td>30.532629</td>\n",
       "      <td>99.963241</td>\n",
       "      <td>17.059599</td>\n",
       "      <td>99.911853</td>\n",
       "      <td>9.023905</td>\n",
       "      <td>4.450113</td>\n",
       "      <td>2.764647</td>\n",
       "      <td>436.806827</td>\n",
       "      <td>0.143286</td>\n",
       "    </tr>\n",
       "    <tr>\n",
       "      <th>std</th>\n",
       "      <td>39.522338</td>\n",
       "      <td>13.647218</td>\n",
       "      <td>54.351004</td>\n",
       "      <td>50.693277</td>\n",
       "      <td>50.71026</td>\n",
       "      <td>2.796937</td>\n",
       "      <td>1.338454</td>\n",
       "      <td>19.886485</td>\n",
       "      <td>9.239653</td>\n",
       "      <td>20.082759</td>\n",
       "      <td>4.308914</td>\n",
       "      <td>19.545034</td>\n",
       "      <td>2.281993</td>\n",
       "      <td>2.441808</td>\n",
       "      <td>0.755163</td>\n",
       "      <td>42.173756</td>\n",
       "      <td>0.350430</td>\n",
       "    </tr>\n",
       "    <tr>\n",
       "      <th>min</th>\n",
       "      <td>1.000000</td>\n",
       "      <td>0.000000</td>\n",
       "      <td>2.600000</td>\n",
       "      <td>0.000000</td>\n",
       "      <td>23.20000</td>\n",
       "      <td>0.000000</td>\n",
       "      <td>0.000000</td>\n",
       "      <td>30.000000</td>\n",
       "      <td>0.440000</td>\n",
       "      <td>0.000000</td>\n",
       "      <td>0.000000</td>\n",
       "      <td>33.000000</td>\n",
       "      <td>1.040000</td>\n",
       "      <td>0.000000</td>\n",
       "      <td>0.000000</td>\n",
       "      <td>408.000000</td>\n",
       "      <td>0.000000</td>\n",
       "    </tr>\n",
       "    <tr>\n",
       "      <th>25%</th>\n",
       "      <td>73.000000</td>\n",
       "      <td>0.000000</td>\n",
       "      <td>143.200000</td>\n",
       "      <td>165.825000</td>\n",
       "      <td>166.80000</td>\n",
       "      <td>8.500000</td>\n",
       "      <td>1.000000</td>\n",
       "      <td>88.000000</td>\n",
       "      <td>24.340000</td>\n",
       "      <td>87.000000</td>\n",
       "      <td>14.092500</td>\n",
       "      <td>86.000000</td>\n",
       "      <td>7.510000</td>\n",
       "      <td>3.000000</td>\n",
       "      <td>2.300000</td>\n",
       "      <td>408.000000</td>\n",
       "      <td>0.000000</td>\n",
       "    </tr>\n",
       "    <tr>\n",
       "      <th>50%</th>\n",
       "      <td>100.000000</td>\n",
       "      <td>0.000000</td>\n",
       "      <td>179.200000</td>\n",
       "      <td>200.850000</td>\n",
       "      <td>200.85000</td>\n",
       "      <td>10.300000</td>\n",
       "      <td>1.000000</td>\n",
       "      <td>101.000000</td>\n",
       "      <td>30.460000</td>\n",
       "      <td>100.000000</td>\n",
       "      <td>17.075000</td>\n",
       "      <td>100.000000</td>\n",
       "      <td>9.040000</td>\n",
       "      <td>4.000000</td>\n",
       "      <td>2.780000</td>\n",
       "      <td>415.000000</td>\n",
       "      <td>0.000000</td>\n",
       "    </tr>\n",
       "    <tr>\n",
       "      <th>75%</th>\n",
       "      <td>127.000000</td>\n",
       "      <td>19.000000</td>\n",
       "      <td>216.275000</td>\n",
       "      <td>234.650000</td>\n",
       "      <td>235.40000</td>\n",
       "      <td>12.000000</td>\n",
       "      <td>2.000000</td>\n",
       "      <td>114.000000</td>\n",
       "      <td>36.765000</td>\n",
       "      <td>113.000000</td>\n",
       "      <td>19.945000</td>\n",
       "      <td>113.000000</td>\n",
       "      <td>10.590000</td>\n",
       "      <td>6.000000</td>\n",
       "      <td>3.240000</td>\n",
       "      <td>415.000000</td>\n",
       "      <td>0.000000</td>\n",
       "    </tr>\n",
       "    <tr>\n",
       "      <th>max</th>\n",
       "      <td>243.000000</td>\n",
       "      <td>51.000000</td>\n",
       "      <td>350.800000</td>\n",
       "      <td>363.700000</td>\n",
       "      <td>395.00000</td>\n",
       "      <td>20.000000</td>\n",
       "      <td>9.000000</td>\n",
       "      <td>165.000000</td>\n",
       "      <td>59.640000</td>\n",
       "      <td>170.000000</td>\n",
       "      <td>30.910000</td>\n",
       "      <td>175.000000</td>\n",
       "      <td>17.770000</td>\n",
       "      <td>19.000000</td>\n",
       "      <td>5.400000</td>\n",
       "      <td>510.000000</td>\n",
       "      <td>1.000000</td>\n",
       "    </tr>\n",
       "  </tbody>\n",
       "</table>\n",
       "</div>"
      ],
      "text/plain": [
       "       Account_Length  Vmail_Message     Day_Mins     Eve_Mins  Night_Mins  \\\n",
       "count     2666.000000    2666.000000  2666.000000  2666.000000  2666.00000   \n",
       "mean       100.691673       7.981245   179.600713   200.698500   200.52982   \n",
       "std         39.522338      13.647218    54.351004    50.693277    50.71026   \n",
       "min          1.000000       0.000000     2.600000     0.000000    23.20000   \n",
       "25%         73.000000       0.000000   143.200000   165.825000   166.80000   \n",
       "50%        100.000000       0.000000   179.200000   200.850000   200.85000   \n",
       "75%        127.000000      19.000000   216.275000   234.650000   235.40000   \n",
       "max        243.000000      51.000000   350.800000   363.700000   395.00000   \n",
       "\n",
       "         Intl_Mins  CustServ_Calls    Day_Calls   Day_Charge    Eve_Calls  \\\n",
       "count  2666.000000     2666.000000  2666.000000  2666.000000  2666.000000   \n",
       "mean     10.237547        1.573143   100.542761    30.532629    99.963241   \n",
       "std       2.796937        1.338454    19.886485     9.239653    20.082759   \n",
       "min       0.000000        0.000000    30.000000     0.440000     0.000000   \n",
       "25%       8.500000        1.000000    88.000000    24.340000    87.000000   \n",
       "50%      10.300000        1.000000   101.000000    30.460000   100.000000   \n",
       "75%      12.000000        2.000000   114.000000    36.765000   113.000000   \n",
       "max      20.000000        9.000000   165.000000    59.640000   170.000000   \n",
       "\n",
       "        Eve_Charge  Night_Calls  Night_Charge   Intl_Calls  Intl_Charge  \\\n",
       "count  2666.000000  2666.000000   2666.000000  2666.000000  2666.000000   \n",
       "mean     17.059599    99.911853      9.023905     4.450113     2.764647   \n",
       "std       4.308914    19.545034      2.281993     2.441808     0.755163   \n",
       "min       0.000000    33.000000      1.040000     0.000000     0.000000   \n",
       "25%      14.092500    86.000000      7.510000     3.000000     2.300000   \n",
       "50%      17.075000   100.000000      9.040000     4.000000     2.780000   \n",
       "75%      19.945000   113.000000     10.590000     6.000000     3.240000   \n",
       "max      30.910000   175.000000     17.770000    19.000000     5.400000   \n",
       "\n",
       "         Area_Code        Churn  \n",
       "count  2666.000000  2666.000000  \n",
       "mean    436.806827     0.143286  \n",
       "std      42.173756     0.350430  \n",
       "min     408.000000     0.000000  \n",
       "25%     408.000000     0.000000  \n",
       "50%     415.000000     0.000000  \n",
       "75%     415.000000     0.000000  \n",
       "max     510.000000     1.000000  "
      ]
     },
     "execution_count": 8,
     "metadata": {},
     "output_type": "execute_result"
    }
   ],
   "source": [
    "telco_train.describe()"
   ]
  },
  {
   "cell_type": "markdown",
   "id": "a46cd792",
   "metadata": {},
   "source": [
    "### Univariate analysis"
   ]
  },
  {
   "cell_type": "code",
   "execution_count": 9,
   "id": "123fd8b3",
   "metadata": {},
   "outputs": [],
   "source": [
    "num_ones = telco_train.select_dtypes(include= np.number).drop('Churn',axis=1)\n",
    "cat_ones = telco_train.select_dtypes(include='object')"
   ]
  },
  {
   "cell_type": "code",
   "execution_count": 10,
   "id": "bbf1f28b",
   "metadata": {},
   "outputs": [
    {
     "data": {
      "image/png": "[encoded data removed]",
      "text/plain": [
       "<Figure size 576x432 with 16 Axes>"
      ]
     },
     "metadata": {
      "needs_background": "light"
     },
     "output_type": "display_data"
    }
   ],
   "source": [
    "# numerical\n",
    "num_ones.hist(figsize=(8,6))\n",
    "plt.tight_layout()\n",
    "plt.show()\n",
    "# CustServ and Intl_Calls are right_skewed ones and they may need more investicate"
   ]
  },
  {
   "cell_type": "code",
   "execution_count": 11,
   "id": "11da6a73",
   "metadata": {},
   "outputs": [
    {
     "data": {
      "image/png": "[encoded data removed]",
      "text/plain": [
       "<Figure size 864x216 with 3 Axes>"
      ]
     },
     "metadata": {
      "needs_background": "light"
     },
     "output_type": "display_data"
    }
   ],
   "source": [
    "# categorical ones\n",
    "def plot_cat_features_counts(df, cols):\n",
    "    '''Plot the multiple categorical featues at once'''\n",
    "    _, axes = plt.subplots(1, len(cols),figsize=(4*len(cols),3))\n",
    "    for num,col in enumerate(cols):\n",
    "        sns.countplot(ax=axes[num], x=col, data=df,\n",
    "                     order = df[col].value_counts().index)\n",
    "cat_cols =   cat_ones.columns.drop('Phone')\n",
    "plot_cat_features_counts(df=telco_train, cols=cat_cols)"
   ]
  },
  {
   "cell_type": "markdown",
   "id": "d04fa1c8",
   "metadata": {},
   "source": [
    "### Binvariate analysis"
   ]
  },
  {
   "cell_type": "code",
   "execution_count": 12,
   "id": "dd8986fd",
   "metadata": {},
   "outputs": [
    {
     "data": {
      "image/png": "[encoded data removed]",
      "text/plain": [
       "<Figure size 1152x864 with 16 Axes>"
      ]
     },
     "metadata": {
      "needs_background": "light"
     },
     "output_type": "display_data"
    }
   ],
   "source": [
    "# explore the relationship between numerical ones and survived by boxplot plot(also could be viloin, count, swarm and bar plots)\n",
    "target='Churn'\n",
    "def plot_bivariate_cat_num_columns_box(target, cols, data, imgs_per_row=4):\n",
    "    '''\n",
    "    Explore bivariate relation between categorical and numerical with box plot\n",
    "    '''\n",
    "    m =(len(cols)-1)//imgs_per_row+1\n",
    "    \n",
    "    _, axes = plt.subplots(m,imgs_per_row,figsize= (4*imgs_per_row,3*m))\n",
    "    for num, col in enumerate(cols):\n",
    "        if m==1:\n",
    "            sns.boxplot(ax=axes[num], x=target, y=col, data=data)\n",
    "        else:\n",
    "            n1=num//imgs_per_row\n",
    "            if num<imgs_per_row:\n",
    "                m1=num\n",
    "            else:       m1=num-n1*imgs_per_row\n",
    "            sns.boxplot(ax=axes[n1,m1], x=target, y=col, data=data)\n",
    "    plt.tight_layout()\n",
    "\n",
    "plot_bivariate_cat_num_columns_box(target=target, cols=num_ones.columns, data=telco_train)\n",
    "# churners make significantly more service call,day_mins, day_charge and less Vmail_Message than non-churners\n",
    "# churners make little more intl_mins in less intl_call than non-churners, is this an interest indicator?\n"
   ]
  },
  {
   "cell_type": "code",
   "execution_count": 13,
   "id": "e4238ecf",
   "metadata": {},
   "outputs": [
    {
     "data": {
      "text/html": [
       "<div>\n",
       "<style scoped>\n",
       "    .dataframe tbody tr th:only-of-type {\n",
       "        vertical-align: middle;\n",
       "    }\n",
       "\n",
       "    .dataframe tbody tr th {\n",
       "        vertical-align: top;\n",
       "    }\n",
       "\n",
       "    .dataframe thead tr th {\n",
       "        text-align: left;\n",
       "    }\n",
       "\n",
       "    .dataframe thead tr:last-of-type th {\n",
       "        text-align: right;\n",
       "    }\n",
       "</style>\n",
       "<table border=\"1\" class=\"dataframe\">\n",
       "  <thead>\n",
       "    <tr>\n",
       "      <th></th>\n",
       "      <th colspan=\"2\" halign=\"left\">CustServ_Calls</th>\n",
       "      <th colspan=\"2\" halign=\"left\">Vmail_Message</th>\n",
       "    </tr>\n",
       "    <tr>\n",
       "      <th></th>\n",
       "      <th>mean</th>\n",
       "      <th>std</th>\n",
       "      <th>mean</th>\n",
       "      <th>std</th>\n",
       "    </tr>\n",
       "    <tr>\n",
       "      <th>Churn</th>\n",
       "      <th></th>\n",
       "      <th></th>\n",
       "      <th></th>\n",
       "      <th></th>\n",
       "    </tr>\n",
       "  </thead>\n",
       "  <tbody>\n",
       "    <tr>\n",
       "      <th>0</th>\n",
       "      <td>1.457</td>\n",
       "      <td>1.179</td>\n",
       "      <td>8.478</td>\n",
       "      <td>13.889</td>\n",
       "    </tr>\n",
       "    <tr>\n",
       "      <th>1</th>\n",
       "      <td>2.270</td>\n",
       "      <td>1.907</td>\n",
       "      <td>5.013</td>\n",
       "      <td>11.682</td>\n",
       "    </tr>\n",
       "  </tbody>\n",
       "</table>\n",
       "</div>"
      ],
      "text/plain": [
       "      CustServ_Calls        Vmail_Message        \n",
       "                mean    std          mean     std\n",
       "Churn                                            \n",
       "0              1.457  1.179         8.478  13.889\n",
       "1              2.270  1.907         5.013  11.682"
      ]
     },
     "execution_count": 13,
     "metadata": {},
     "output_type": "execute_result"
    }
   ],
   "source": [
    "telco_train[['Churn','CustServ_Calls', 'Vmail_Message']].groupby('Churn').agg(['mean','std']).round(3)\n",
    "# churners make more service call than non-churners"
   ]
  },
  {
   "cell_type": "code",
   "execution_count": 14,
   "id": "013bbb4a",
   "metadata": {},
   "outputs": [],
   "source": [
    "# explore the relationship between categorical one and numerical target by count plot\n",
    "\n",
    "\n",
    "def plot_bivariate_cat_num_columns(target, cols, data,imgs_per_row=4):\n",
    "    '''\n",
    "    Explore bivariate relation between categorical ones with target using barh plot\n",
    "    '''\n",
    "    m =(len(cols)-1)//imgs_per_row+1\n",
    "    _, axes = plt.subplots(m,imgs_per_row,figsize=(4*imgs_per_row,3))\n",
    "    for num, col in enumerate(cols): \n",
    "        if m==1:\n",
    "            sns.barplot(ax=axes[num], x=target, y=col,data=data)\n",
    "        else:\n",
    "            n1 = num//imgs_per_row\n",
    "            m1 = num if num<imgs_per_row else num-n1*imgs_per_row\n",
    "  \n",
    "            sns.barplot(ax=axes[n1,m1], x=target, y=col,data=data)\n",
    "    plt.tight_layout()"
   ]
  },
  {
   "cell_type": "code",
   "execution_count": null,
   "id": "19155f71",
   "metadata": {},
   "outputs": [],
   "source": []
  },
  {
   "cell_type": "code",
   "execution_count": 15,
   "id": "da849c6a",
   "metadata": {},
   "outputs": [
    {
     "data": {
      "text/plain": [
       "382"
      ]
     },
     "execution_count": 15,
     "metadata": {},
     "output_type": "execute_result"
    }
   ],
   "source": [
    "\n",
    "telco_train['Churn'].sum()"
   ]
  },
  {
   "cell_type": "code",
   "execution_count": 16,
   "id": "02175311",
   "metadata": {},
   "outputs": [
    {
     "data": {
      "image/png": "[encoded data removed]",
      "text/plain": [
       "<Figure size 864x216 with 3 Axes>"
      ]
     },
     "metadata": {
      "needs_background": "light"
     },
     "output_type": "display_data"
    }
   ],
   "source": [
    "cat_cols =['Intl_Plan', 'Vmail_Plan','State']\n",
    "plot_bivariate_cat_num_columns(target='Churn', cols= cat_cols, data= telco_train,imgs_per_row=3)\n",
    "# the customer have intl plan and do not have Vmail seems more like to churn, are they the involunterr/volunteer churn"
   ]
  },
  {
   "cell_type": "code",
   "execution_count": 17,
   "id": "011ff8b1",
   "metadata": {},
   "outputs": [
    {
     "data": {
      "text/html": [
       "<div>\n",
       "<style scoped>\n",
       "    .dataframe tbody tr th:only-of-type {\n",
       "        vertical-align: middle;\n",
       "    }\n",
       "\n",
       "    .dataframe tbody tr th {\n",
       "        vertical-align: top;\n",
       "    }\n",
       "\n",
       "    .dataframe thead th {\n",
       "        text-align: right;\n",
       "    }\n",
       "</style>\n",
       "<table border=\"1\" class=\"dataframe\">\n",
       "  <thead>\n",
       "    <tr style=\"text-align: right;\">\n",
       "      <th>Churn</th>\n",
       "      <th>0</th>\n",
       "      <th>1</th>\n",
       "      <th>churn_rate</th>\n",
       "    </tr>\n",
       "    <tr>\n",
       "      <th>State</th>\n",
       "      <th></th>\n",
       "      <th></th>\n",
       "      <th></th>\n",
       "    </tr>\n",
       "  </thead>\n",
       "  <tbody>\n",
       "    <tr>\n",
       "      <th>TX</th>\n",
       "      <td>43</td>\n",
       "      <td>16</td>\n",
       "      <td>0.2712</td>\n",
       "    </tr>\n",
       "    <tr>\n",
       "      <th>AR</th>\n",
       "      <td>30</td>\n",
       "      <td>11</td>\n",
       "      <td>0.2683</td>\n",
       "    </tr>\n",
       "    <tr>\n",
       "      <th>NJ</th>\n",
       "      <td>39</td>\n",
       "      <td>14</td>\n",
       "      <td>0.2642</td>\n",
       "    </tr>\n",
       "    <tr>\n",
       "      <th>SC</th>\n",
       "      <td>35</td>\n",
       "      <td>12</td>\n",
       "      <td>0.2553</td>\n",
       "    </tr>\n",
       "    <tr>\n",
       "      <th>NV</th>\n",
       "      <td>39</td>\n",
       "      <td>13</td>\n",
       "      <td>0.2500</td>\n",
       "    </tr>\n",
       "    <tr>\n",
       "      <th>KS</th>\n",
       "      <td>41</td>\n",
       "      <td>12</td>\n",
       "      <td>0.2264</td>\n",
       "    </tr>\n",
       "    <tr>\n",
       "      <th>CA</th>\n",
       "      <td>21</td>\n",
       "      <td>6</td>\n",
       "      <td>0.2222</td>\n",
       "    </tr>\n",
       "    <tr>\n",
       "      <th>MD</th>\n",
       "      <td>46</td>\n",
       "      <td>13</td>\n",
       "      <td>0.2203</td>\n",
       "    </tr>\n",
       "    <tr>\n",
       "      <th>ME</th>\n",
       "      <td>38</td>\n",
       "      <td>10</td>\n",
       "      <td>0.2083</td>\n",
       "    </tr>\n",
       "    <tr>\n",
       "      <th>PA</th>\n",
       "      <td>28</td>\n",
       "      <td>7</td>\n",
       "      <td>0.2000</td>\n",
       "    </tr>\n",
       "    <tr>\n",
       "      <th>MI</th>\n",
       "      <td>48</td>\n",
       "      <td>12</td>\n",
       "      <td>0.2000</td>\n",
       "    </tr>\n",
       "    <tr>\n",
       "      <th>MS</th>\n",
       "      <td>37</td>\n",
       "      <td>9</td>\n",
       "      <td>0.1957</td>\n",
       "    </tr>\n",
       "    <tr>\n",
       "      <th>MN</th>\n",
       "      <td>56</td>\n",
       "      <td>13</td>\n",
       "      <td>0.1884</td>\n",
       "    </tr>\n",
       "    <tr>\n",
       "      <th>GA</th>\n",
       "      <td>35</td>\n",
       "      <td>8</td>\n",
       "      <td>0.1860</td>\n",
       "    </tr>\n",
       "    <tr>\n",
       "      <th>MT</th>\n",
       "      <td>45</td>\n",
       "      <td>10</td>\n",
       "      <td>0.1818</td>\n",
       "    </tr>\n",
       "    <tr>\n",
       "      <th>WA</th>\n",
       "      <td>47</td>\n",
       "      <td>10</td>\n",
       "      <td>0.1754</td>\n",
       "    </tr>\n",
       "    <tr>\n",
       "      <th>IN</th>\n",
       "      <td>43</td>\n",
       "      <td>9</td>\n",
       "      <td>0.1731</td>\n",
       "    </tr>\n",
       "    <tr>\n",
       "      <th>NC</th>\n",
       "      <td>44</td>\n",
       "      <td>9</td>\n",
       "      <td>0.1698</td>\n",
       "    </tr>\n",
       "    <tr>\n",
       "      <th>OR</th>\n",
       "      <td>49</td>\n",
       "      <td>10</td>\n",
       "      <td>0.1695</td>\n",
       "    </tr>\n",
       "    <tr>\n",
       "      <th>NY</th>\n",
       "      <td>55</td>\n",
       "      <td>10</td>\n",
       "      <td>0.1538</td>\n",
       "    </tr>\n",
       "    <tr>\n",
       "      <th>KY</th>\n",
       "      <td>40</td>\n",
       "      <td>7</td>\n",
       "      <td>0.1489</td>\n",
       "    </tr>\n",
       "    <tr>\n",
       "      <th>MA</th>\n",
       "      <td>46</td>\n",
       "      <td>8</td>\n",
       "      <td>0.1481</td>\n",
       "    </tr>\n",
       "    <tr>\n",
       "      <th>NH</th>\n",
       "      <td>35</td>\n",
       "      <td>6</td>\n",
       "      <td>0.1463</td>\n",
       "    </tr>\n",
       "    <tr>\n",
       "      <th>OK</th>\n",
       "      <td>42</td>\n",
       "      <td>7</td>\n",
       "      <td>0.1429</td>\n",
       "    </tr>\n",
       "    <tr>\n",
       "      <th>OH</th>\n",
       "      <td>58</td>\n",
       "      <td>9</td>\n",
       "      <td>0.1343</td>\n",
       "    </tr>\n",
       "    <tr>\n",
       "      <th>CT</th>\n",
       "      <td>52</td>\n",
       "      <td>8</td>\n",
       "      <td>0.1333</td>\n",
       "    </tr>\n",
       "    <tr>\n",
       "      <th>WY</th>\n",
       "      <td>53</td>\n",
       "      <td>8</td>\n",
       "      <td>0.1311</td>\n",
       "    </tr>\n",
       "    <tr>\n",
       "      <th>CO</th>\n",
       "      <td>50</td>\n",
       "      <td>7</td>\n",
       "      <td>0.1228</td>\n",
       "    </tr>\n",
       "    <tr>\n",
       "      <th>UT</th>\n",
       "      <td>51</td>\n",
       "      <td>7</td>\n",
       "      <td>0.1207</td>\n",
       "    </tr>\n",
       "    <tr>\n",
       "      <th>FL</th>\n",
       "      <td>44</td>\n",
       "      <td>6</td>\n",
       "      <td>0.1200</td>\n",
       "    </tr>\n",
       "    <tr>\n",
       "      <th>DE</th>\n",
       "      <td>45</td>\n",
       "      <td>6</td>\n",
       "      <td>0.1176</td>\n",
       "    </tr>\n",
       "    <tr>\n",
       "      <th>NM</th>\n",
       "      <td>46</td>\n",
       "      <td>6</td>\n",
       "      <td>0.1154</td>\n",
       "    </tr>\n",
       "    <tr>\n",
       "      <th>SD</th>\n",
       "      <td>46</td>\n",
       "      <td>6</td>\n",
       "      <td>0.1154</td>\n",
       "    </tr>\n",
       "    <tr>\n",
       "      <th>TN</th>\n",
       "      <td>39</td>\n",
       "      <td>5</td>\n",
       "      <td>0.1136</td>\n",
       "    </tr>\n",
       "    <tr>\n",
       "      <th>WV</th>\n",
       "      <td>75</td>\n",
       "      <td>9</td>\n",
       "      <td>0.1071</td>\n",
       "    </tr>\n",
       "    <tr>\n",
       "      <th>ID</th>\n",
       "      <td>50</td>\n",
       "      <td>6</td>\n",
       "      <td>0.1071</td>\n",
       "    </tr>\n",
       "    <tr>\n",
       "      <th>WI</th>\n",
       "      <td>61</td>\n",
       "      <td>7</td>\n",
       "      <td>0.1029</td>\n",
       "    </tr>\n",
       "    <tr>\n",
       "      <th>NE</th>\n",
       "      <td>35</td>\n",
       "      <td>4</td>\n",
       "      <td>0.1026</td>\n",
       "    </tr>\n",
       "    <tr>\n",
       "      <th>DC</th>\n",
       "      <td>37</td>\n",
       "      <td>4</td>\n",
       "      <td>0.0976</td>\n",
       "    </tr>\n",
       "    <tr>\n",
       "      <th>MO</th>\n",
       "      <td>47</td>\n",
       "      <td>5</td>\n",
       "      <td>0.0962</td>\n",
       "    </tr>\n",
       "    <tr>\n",
       "      <th>IL</th>\n",
       "      <td>40</td>\n",
       "      <td>4</td>\n",
       "      <td>0.0909</td>\n",
       "    </tr>\n",
       "    <tr>\n",
       "      <th>VA</th>\n",
       "      <td>57</td>\n",
       "      <td>5</td>\n",
       "      <td>0.0806</td>\n",
       "    </tr>\n",
       "    <tr>\n",
       "      <th>IA</th>\n",
       "      <td>35</td>\n",
       "      <td>3</td>\n",
       "      <td>0.0789</td>\n",
       "    </tr>\n",
       "    <tr>\n",
       "      <th>RI</th>\n",
       "      <td>50</td>\n",
       "      <td>4</td>\n",
       "      <td>0.0741</td>\n",
       "    </tr>\n",
       "    <tr>\n",
       "      <th>AK</th>\n",
       "      <td>40</td>\n",
       "      <td>3</td>\n",
       "      <td>0.0698</td>\n",
       "    </tr>\n",
       "    <tr>\n",
       "      <th>LA</th>\n",
       "      <td>41</td>\n",
       "      <td>3</td>\n",
       "      <td>0.0682</td>\n",
       "    </tr>\n",
       "    <tr>\n",
       "      <th>AL</th>\n",
       "      <td>58</td>\n",
       "      <td>4</td>\n",
       "      <td>0.0645</td>\n",
       "    </tr>\n",
       "    <tr>\n",
       "      <th>HI</th>\n",
       "      <td>44</td>\n",
       "      <td>3</td>\n",
       "      <td>0.0638</td>\n",
       "    </tr>\n",
       "    <tr>\n",
       "      <th>AZ</th>\n",
       "      <td>50</td>\n",
       "      <td>3</td>\n",
       "      <td>0.0566</td>\n",
       "    </tr>\n",
       "    <tr>\n",
       "      <th>VT</th>\n",
       "      <td>52</td>\n",
       "      <td>3</td>\n",
       "      <td>0.0545</td>\n",
       "    </tr>\n",
       "    <tr>\n",
       "      <th>ND</th>\n",
       "      <td>46</td>\n",
       "      <td>2</td>\n",
       "      <td>0.0417</td>\n",
       "    </tr>\n",
       "  </tbody>\n",
       "</table>\n",
       "</div>"
      ],
      "text/plain": [
       "Churn   0   1  churn_rate\n",
       "State                    \n",
       "TX     43  16      0.2712\n",
       "AR     30  11      0.2683\n",
       "NJ     39  14      0.2642\n",
       "SC     35  12      0.2553\n",
       "NV     39  13      0.2500\n",
       "KS     41  12      0.2264\n",
       "CA     21   6      0.2222\n",
       "MD     46  13      0.2203\n",
       "ME     38  10      0.2083\n",
       "PA     28   7      0.2000\n",
       "MI     48  12      0.2000\n",
       "MS     37   9      0.1957\n",
       "MN     56  13      0.1884\n",
       "GA     35   8      0.1860\n",
       "MT     45  10      0.1818\n",
       "WA     47  10      0.1754\n",
       "IN     43   9      0.1731\n",
       "NC     44   9      0.1698\n",
       "OR     49  10      0.1695\n",
       "NY     55  10      0.1538\n",
       "KY     40   7      0.1489\n",
       "MA     46   8      0.1481\n",
       "NH     35   6      0.1463\n",
       "OK     42   7      0.1429\n",
       "OH     58   9      0.1343\n",
       "CT     52   8      0.1333\n",
       "WY     53   8      0.1311\n",
       "CO     50   7      0.1228\n",
       "UT     51   7      0.1207\n",
       "FL     44   6      0.1200\n",
       "DE     45   6      0.1176\n",
       "NM     46   6      0.1154\n",
       "SD     46   6      0.1154\n",
       "TN     39   5      0.1136\n",
       "WV     75   9      0.1071\n",
       "ID     50   6      0.1071\n",
       "WI     61   7      0.1029\n",
       "NE     35   4      0.1026\n",
       "DC     37   4      0.0976\n",
       "MO     47   5      0.0962\n",
       "IL     40   4      0.0909\n",
       "VA     57   5      0.0806\n",
       "IA     35   3      0.0789\n",
       "RI     50   4      0.0741\n",
       "AK     40   3      0.0698\n",
       "LA     41   3      0.0682\n",
       "AL     58   4      0.0645\n",
       "HI     44   3      0.0638\n",
       "AZ     50   3      0.0566\n",
       "VT     52   3      0.0545\n",
       "ND     46   2      0.0417"
      ]
     },
     "execution_count": 17,
     "metadata": {},
     "output_type": "execute_result"
    }
   ],
   "source": [
    "# Count the number of churners and non-churners by State \n",
    "\n",
    "state_churn =telco_train.groupby('State')['Churn'].value_counts().unstack()\n",
    "state_churn['churn_rate'] = round(state_churn[1]/state_churn.sum(axis=1),4)\n",
    "state_churn.sort_values('churn_rate', ascending=False)\n",
    "\n",
    "# From state view, NJ, CA, TX etc. 12 states have more than 20% churn\n"
   ]
  },
  {
   "cell_type": "code",
   "execution_count": 18,
   "id": "6be2c43b",
   "metadata": {},
   "outputs": [
    {
     "data": {
      "image/png": "[encoded data removed]",
      "text/plain": [
       "<Figure size 576x216 with 2 Axes>"
      ]
     },
     "metadata": {
      "needs_background": "light"
     },
     "output_type": "display_data"
    }
   ],
   "source": [
    "# whether the customer with intl plan and Vmail plan have difference in customer service call for churner and nonChurner\n",
    "cols=['Intl_Plan','Vmail_Plan']\n",
    "_,axes = plt.subplots(1,2,figsize=(8,3))\n",
    "for num,col in enumerate(cols):\n",
    "    sns.boxplot(ax=axes[num],x = 'Churn',\n",
    "            y = 'CustServ_Calls',\n",
    "            data = telco_train,\n",
    "            sym = \"\",\n",
    "            hue = col)\n",
    "plt.show()"
   ]
  },
  {
   "cell_type": "markdown",
   "id": "adf021f0",
   "metadata": {},
   "source": [
    "### Conclusion\n",
    "* It looks like customers who do churn end up leaving more customer service calls, unless these customers also have an international plan, in which case they leave fewer customer service calls.\n",
    "* From state view, NJ, CA, TX etc. 12 states have more than 20% churn\n",
    "* Besides service call, churners also make more day_mins, day_charge and less Vmail_Message than non-churners\n",
    "* Churners make little more intl_mins in less intl_call than non-churners, is this an interest indicator?\n",
    "* Last, CustServ and Intl_Calls are right_skewed ones and they need data transformation and more exploration"
   ]
  },
  {
   "cell_type": "markdown",
   "id": "76343a0b",
   "metadata": {},
   "source": [
    "## Preprocessing for modeling\n",
    "* Data preprocessing\n",
    "    * feature scaling: standardization\n",
    "    * encoding categorical data\n",
    "* Feature selection and engineering\n",
    "    * drop the unnecessary data, usually like phone, user_id, account_id\n",
    "    * Highly correlated pairs-- need to drop one or some or creating new features through combination"
   ]
  },
  {
   "cell_type": "markdown",
   "id": "b47f0a53",
   "metadata": {},
   "source": [
    "### Encoding Categorical data\n",
    "* For pipeline, its better to use LabelEncoder for binary features and onehot encoder for multiple features. \n",
    "* Also, pandas is good for a straightforward task, using replace and get_dummies. For demonstration, here I use pandas"
   ]
  },
  {
   "cell_type": "code",
   "execution_count": 19,
   "id": "18734c97",
   "metadata": {},
   "outputs": [],
   "source": [
    "def encoding_binary_features(df, cols):\n",
    "    '''This function changes yes/no to 1/0 for each column in cols'''\n",
    "    for col in cols:\n",
    "        df[col] = df[col].replace({'yes':1, 'no':0})\n",
    "        \n",
    "    return df\n",
    "\n",
    "telco_train = encoding_binary_features(telco_train,['Vmail_Plan','Intl_Plan'])"
   ]
  },
  {
   "cell_type": "code",
   "execution_count": 20,
   "id": "908f2ee1",
   "metadata": {},
   "outputs": [
    {
     "data": {
      "text/html": [
       "<div>\n",
       "<style scoped>\n",
       "    .dataframe tbody tr th:only-of-type {\n",
       "        vertical-align: middle;\n",
       "    }\n",
       "\n",
       "    .dataframe tbody tr th {\n",
       "        vertical-align: top;\n",
       "    }\n",
       "\n",
       "    .dataframe thead th {\n",
       "        text-align: right;\n",
       "    }\n",
       "</style>\n",
       "<table border=\"1\" class=\"dataframe\">\n",
       "  <thead>\n",
       "    <tr style=\"text-align: right;\">\n",
       "      <th></th>\n",
       "      <th>Vmail_Plan</th>\n",
       "      <th>Intl_Plan</th>\n",
       "    </tr>\n",
       "  </thead>\n",
       "  <tbody>\n",
       "    <tr>\n",
       "      <th>817</th>\n",
       "      <td>0</td>\n",
       "      <td>0</td>\n",
       "    </tr>\n",
       "    <tr>\n",
       "      <th>1373</th>\n",
       "      <td>0</td>\n",
       "      <td>0</td>\n",
       "    </tr>\n",
       "    <tr>\n",
       "      <th>679</th>\n",
       "      <td>0</td>\n",
       "      <td>1</td>\n",
       "    </tr>\n",
       "    <tr>\n",
       "      <th>56</th>\n",
       "      <td>0</td>\n",
       "      <td>0</td>\n",
       "    </tr>\n",
       "    <tr>\n",
       "      <th>1993</th>\n",
       "      <td>0</td>\n",
       "      <td>0</td>\n",
       "    </tr>\n",
       "  </tbody>\n",
       "</table>\n",
       "</div>"
      ],
      "text/plain": [
       "      Vmail_Plan  Intl_Plan\n",
       "817            0          0\n",
       "1373           0          0\n",
       "679            0          1\n",
       "56             0          0\n",
       "1993           0          0"
      ]
     },
     "execution_count": 20,
     "metadata": {},
     "output_type": "execute_result"
    }
   ],
   "source": [
    "\n",
    "telco_train[['Vmail_Plan','Intl_Plan']].head()"
   ]
  },
  {
   "cell_type": "code",
   "execution_count": 21,
   "id": "5c59fee8",
   "metadata": {},
   "outputs": [
    {
     "data": {
      "text/html": [
       "<div>\n",
       "<style scoped>\n",
       "    .dataframe tbody tr th:only-of-type {\n",
       "        vertical-align: middle;\n",
       "    }\n",
       "\n",
       "    .dataframe tbody tr th {\n",
       "        vertical-align: top;\n",
       "    }\n",
       "\n",
       "    .dataframe thead th {\n",
       "        text-align: right;\n",
       "    }\n",
       "</style>\n",
       "<table border=\"1\" class=\"dataframe\">\n",
       "  <thead>\n",
       "    <tr style=\"text-align: right;\">\n",
       "      <th></th>\n",
       "      <th>AK</th>\n",
       "      <th>AL</th>\n",
       "      <th>AR</th>\n",
       "      <th>AZ</th>\n",
       "      <th>CA</th>\n",
       "      <th>CO</th>\n",
       "      <th>CT</th>\n",
       "      <th>DC</th>\n",
       "      <th>DE</th>\n",
       "      <th>FL</th>\n",
       "      <th>...</th>\n",
       "      <th>SD</th>\n",
       "      <th>TN</th>\n",
       "      <th>TX</th>\n",
       "      <th>UT</th>\n",
       "      <th>VA</th>\n",
       "      <th>VT</th>\n",
       "      <th>WA</th>\n",
       "      <th>WI</th>\n",
       "      <th>WV</th>\n",
       "      <th>WY</th>\n",
       "    </tr>\n",
       "  </thead>\n",
       "  <tbody>\n",
       "    <tr>\n",
       "      <th>817</th>\n",
       "      <td>0</td>\n",
       "      <td>0</td>\n",
       "      <td>0</td>\n",
       "      <td>0</td>\n",
       "      <td>0</td>\n",
       "      <td>0</td>\n",
       "      <td>0</td>\n",
       "      <td>0</td>\n",
       "      <td>0</td>\n",
       "      <td>0</td>\n",
       "      <td>...</td>\n",
       "      <td>0</td>\n",
       "      <td>0</td>\n",
       "      <td>0</td>\n",
       "      <td>1</td>\n",
       "      <td>0</td>\n",
       "      <td>0</td>\n",
       "      <td>0</td>\n",
       "      <td>0</td>\n",
       "      <td>0</td>\n",
       "      <td>0</td>\n",
       "    </tr>\n",
       "    <tr>\n",
       "      <th>1373</th>\n",
       "      <td>0</td>\n",
       "      <td>0</td>\n",
       "      <td>0</td>\n",
       "      <td>0</td>\n",
       "      <td>0</td>\n",
       "      <td>0</td>\n",
       "      <td>0</td>\n",
       "      <td>0</td>\n",
       "      <td>0</td>\n",
       "      <td>0</td>\n",
       "      <td>...</td>\n",
       "      <td>0</td>\n",
       "      <td>0</td>\n",
       "      <td>0</td>\n",
       "      <td>0</td>\n",
       "      <td>0</td>\n",
       "      <td>0</td>\n",
       "      <td>0</td>\n",
       "      <td>0</td>\n",
       "      <td>0</td>\n",
       "      <td>0</td>\n",
       "    </tr>\n",
       "    <tr>\n",
       "      <th>679</th>\n",
       "      <td>0</td>\n",
       "      <td>0</td>\n",
       "      <td>0</td>\n",
       "      <td>0</td>\n",
       "      <td>0</td>\n",
       "      <td>0</td>\n",
       "      <td>0</td>\n",
       "      <td>0</td>\n",
       "      <td>0</td>\n",
       "      <td>0</td>\n",
       "      <td>...</td>\n",
       "      <td>0</td>\n",
       "      <td>0</td>\n",
       "      <td>1</td>\n",
       "      <td>0</td>\n",
       "      <td>0</td>\n",
       "      <td>0</td>\n",
       "      <td>0</td>\n",
       "      <td>0</td>\n",
       "      <td>0</td>\n",
       "      <td>0</td>\n",
       "    </tr>\n",
       "    <tr>\n",
       "      <th>56</th>\n",
       "      <td>0</td>\n",
       "      <td>0</td>\n",
       "      <td>0</td>\n",
       "      <td>0</td>\n",
       "      <td>0</td>\n",
       "      <td>1</td>\n",
       "      <td>0</td>\n",
       "      <td>0</td>\n",
       "      <td>0</td>\n",
       "      <td>0</td>\n",
       "      <td>...</td>\n",
       "      <td>0</td>\n",
       "      <td>0</td>\n",
       "      <td>0</td>\n",
       "      <td>0</td>\n",
       "      <td>0</td>\n",
       "      <td>0</td>\n",
       "      <td>0</td>\n",
       "      <td>0</td>\n",
       "      <td>0</td>\n",
       "      <td>0</td>\n",
       "    </tr>\n",
       "    <tr>\n",
       "      <th>1993</th>\n",
       "      <td>0</td>\n",
       "      <td>0</td>\n",
       "      <td>0</td>\n",
       "      <td>0</td>\n",
       "      <td>0</td>\n",
       "      <td>0</td>\n",
       "      <td>0</td>\n",
       "      <td>0</td>\n",
       "      <td>0</td>\n",
       "      <td>0</td>\n",
       "      <td>...</td>\n",
       "      <td>0</td>\n",
       "      <td>0</td>\n",
       "      <td>0</td>\n",
       "      <td>0</td>\n",
       "      <td>0</td>\n",
       "      <td>0</td>\n",
       "      <td>0</td>\n",
       "      <td>0</td>\n",
       "      <td>0</td>\n",
       "      <td>0</td>\n",
       "    </tr>\n",
       "  </tbody>\n",
       "</table>\n",
       "<p>5 rows × 51 columns</p>\n",
       "</div>"
      ],
      "text/plain": [
       "      AK  AL  AR  AZ  CA  CO  CT  DC  DE  FL  ...  SD  TN  TX  UT  VA  VT  WA  \\\n",
       "817    0   0   0   0   0   0   0   0   0   0  ...   0   0   0   1   0   0   0   \n",
       "1373   0   0   0   0   0   0   0   0   0   0  ...   0   0   0   0   0   0   0   \n",
       "679    0   0   0   0   0   0   0   0   0   0  ...   0   0   1   0   0   0   0   \n",
       "56     0   0   0   0   0   1   0   0   0   0  ...   0   0   0   0   0   0   0   \n",
       "1993   0   0   0   0   0   0   0   0   0   0  ...   0   0   0   0   0   0   0   \n",
       "\n",
       "      WI  WV  WY  \n",
       "817    0   0   0  \n",
       "1373   0   0   0  \n",
       "679    0   0   0  \n",
       "56     0   0   0  \n",
       "1993   0   0   0  \n",
       "\n",
       "[5 rows x 51 columns]"
      ]
     },
     "execution_count": 21,
     "metadata": {},
     "output_type": "execute_result"
    }
   ],
   "source": [
    "# Perform one hot encoding on 'State'\n",
    "telco_state = pd.get_dummies(telco_train['State'])\n",
    "telco_state.head()"
   ]
  },
  {
   "cell_type": "markdown",
   "id": "cd97b1d4",
   "metadata": {},
   "source": [
    "### Feature Scaling"
   ]
  },
  {
   "cell_type": "code",
   "execution_count": 22,
   "id": "dda407f4",
   "metadata": {},
   "outputs": [],
   "source": [
    "def feature_scaling(df, column_names):\n",
    "    '''Create a new df to contain scaled feature and their names'''\n",
    "    scaled = StandardScaler().fit_transform(df)\n",
    "    scaled_df = pd.DataFrame(scaled, columns= column_names)\n",
    "    return scaled_df"
   ]
  },
  {
   "cell_type": "code",
   "execution_count": 23,
   "id": "b743d6f4",
   "metadata": {},
   "outputs": [
    {
     "data": {
      "text/html": [
       "<div>\n",
       "<style scoped>\n",
       "    .dataframe tbody tr th:only-of-type {\n",
       "        vertical-align: middle;\n",
       "    }\n",
       "\n",
       "    .dataframe tbody tr th {\n",
       "        vertical-align: top;\n",
       "    }\n",
       "\n",
       "    .dataframe thead th {\n",
       "        text-align: right;\n",
       "    }\n",
       "</style>\n",
       "<table border=\"1\" class=\"dataframe\">\n",
       "  <thead>\n",
       "    <tr style=\"text-align: right;\">\n",
       "      <th></th>\n",
       "      <th>Intl_Calls</th>\n",
       "      <th>Night_Mins</th>\n",
       "    </tr>\n",
       "  </thead>\n",
       "  <tbody>\n",
       "    <tr>\n",
       "      <th>count</th>\n",
       "      <td>2.666000e+03</td>\n",
       "      <td>2.666000e+03</td>\n",
       "    </tr>\n",
       "    <tr>\n",
       "      <th>mean</th>\n",
       "      <td>-1.066081e-17</td>\n",
       "      <td>1.579132e-16</td>\n",
       "    </tr>\n",
       "    <tr>\n",
       "      <th>std</th>\n",
       "      <td>1.000188e+00</td>\n",
       "      <td>1.000188e+00</td>\n",
       "    </tr>\n",
       "    <tr>\n",
       "      <th>min</th>\n",
       "      <td>-1.822808e+00</td>\n",
       "      <td>-3.497578e+00</td>\n",
       "    </tr>\n",
       "    <tr>\n",
       "      <th>25%</th>\n",
       "      <td>-5.939798e-01</td>\n",
       "      <td>-6.652726e-01</td>\n",
       "    </tr>\n",
       "    <tr>\n",
       "      <th>50%</th>\n",
       "      <td>-1.843703e-01</td>\n",
       "      <td>6.315095e-03</td>\n",
       "    </tr>\n",
       "    <tr>\n",
       "      <th>75%</th>\n",
       "      <td>6.348486e-01</td>\n",
       "      <td>6.877646e-01</td>\n",
       "    </tr>\n",
       "    <tr>\n",
       "      <th>max</th>\n",
       "      <td>5.959771e+00</td>\n",
       "      <td>3.835647e+00</td>\n",
       "    </tr>\n",
       "  </tbody>\n",
       "</table>\n",
       "</div>"
      ],
      "text/plain": [
       "         Intl_Calls    Night_Mins\n",
       "count  2.666000e+03  2.666000e+03\n",
       "mean  -1.066081e-17  1.579132e-16\n",
       "std    1.000188e+00  1.000188e+00\n",
       "min   -1.822808e+00 -3.497578e+00\n",
       "25%   -5.939798e-01 -6.652726e-01\n",
       "50%   -1.843703e-01  6.315095e-03\n",
       "75%    6.348486e-01  6.877646e-01\n",
       "max    5.959771e+00  3.835647e+00"
      ]
     },
     "execution_count": 23,
     "metadata": {},
     "output_type": "execute_result"
    }
   ],
   "source": [
    "scaled_cols=[\"Intl_Calls\", \"Night_Mins\"]\n",
    "df_scaled = feature_scaling(df=telco_train[scaled_cols], column_names=scaled_cols)\n",
    "df_scaled.describe()"
   ]
  },
  {
   "cell_type": "code",
   "execution_count": 24,
   "id": "3462df85",
   "metadata": {},
   "outputs": [
    {
     "data": {
      "text/html": [
       "<div>\n",
       "<style scoped>\n",
       "    .dataframe tbody tr th:only-of-type {\n",
       "        vertical-align: middle;\n",
       "    }\n",
       "\n",
       "    .dataframe tbody tr th {\n",
       "        vertical-align: top;\n",
       "    }\n",
       "\n",
       "    .dataframe thead th {\n",
       "        text-align: right;\n",
       "    }\n",
       "</style>\n",
       "<table border=\"1\" class=\"dataframe\">\n",
       "  <thead>\n",
       "    <tr style=\"text-align: right;\">\n",
       "      <th></th>\n",
       "      <th>Account_Length</th>\n",
       "      <th>Vmail_Message</th>\n",
       "      <th>Day_Mins</th>\n",
       "      <th>Eve_Mins</th>\n",
       "      <th>Night_Mins</th>\n",
       "      <th>Intl_Mins</th>\n",
       "      <th>CustServ_Calls</th>\n",
       "      <th>Day_Calls</th>\n",
       "      <th>Day_Charge</th>\n",
       "      <th>Eve_Calls</th>\n",
       "      <th>Eve_Charge</th>\n",
       "      <th>Night_Calls</th>\n",
       "      <th>Night_Charge</th>\n",
       "      <th>Intl_Calls</th>\n",
       "      <th>Intl_Charge</th>\n",
       "      <th>Area_Code</th>\n",
       "    </tr>\n",
       "  </thead>\n",
       "  <tbody>\n",
       "    <tr>\n",
       "      <th>count</th>\n",
       "      <td>2666.000000</td>\n",
       "      <td>2666.000000</td>\n",
       "      <td>2666.000000</td>\n",
       "      <td>2666.000000</td>\n",
       "      <td>2666.00000</td>\n",
       "      <td>2666.000000</td>\n",
       "      <td>2666.000000</td>\n",
       "      <td>2666.000000</td>\n",
       "      <td>2666.000000</td>\n",
       "      <td>2666.000000</td>\n",
       "      <td>2666.000000</td>\n",
       "      <td>2666.000000</td>\n",
       "      <td>2666.000000</td>\n",
       "      <td>2666.000000</td>\n",
       "      <td>2666.000000</td>\n",
       "      <td>2666.000000</td>\n",
       "    </tr>\n",
       "    <tr>\n",
       "      <th>mean</th>\n",
       "      <td>100.691673</td>\n",
       "      <td>7.981245</td>\n",
       "      <td>179.600713</td>\n",
       "      <td>200.698500</td>\n",
       "      <td>200.52982</td>\n",
       "      <td>10.237547</td>\n",
       "      <td>1.573143</td>\n",
       "      <td>100.542761</td>\n",
       "      <td>30.532629</td>\n",
       "      <td>99.963241</td>\n",
       "      <td>17.059599</td>\n",
       "      <td>99.911853</td>\n",
       "      <td>9.023905</td>\n",
       "      <td>4.450113</td>\n",
       "      <td>2.764647</td>\n",
       "      <td>436.806827</td>\n",
       "    </tr>\n",
       "    <tr>\n",
       "      <th>std</th>\n",
       "      <td>39.522338</td>\n",
       "      <td>13.647218</td>\n",
       "      <td>54.351004</td>\n",
       "      <td>50.693277</td>\n",
       "      <td>50.71026</td>\n",
       "      <td>2.796937</td>\n",
       "      <td>1.338454</td>\n",
       "      <td>19.886485</td>\n",
       "      <td>9.239653</td>\n",
       "      <td>20.082759</td>\n",
       "      <td>4.308914</td>\n",
       "      <td>19.545034</td>\n",
       "      <td>2.281993</td>\n",
       "      <td>2.441808</td>\n",
       "      <td>0.755163</td>\n",
       "      <td>42.173756</td>\n",
       "    </tr>\n",
       "    <tr>\n",
       "      <th>min</th>\n",
       "      <td>1.000000</td>\n",
       "      <td>0.000000</td>\n",
       "      <td>2.600000</td>\n",
       "      <td>0.000000</td>\n",
       "      <td>23.20000</td>\n",
       "      <td>0.000000</td>\n",
       "      <td>0.000000</td>\n",
       "      <td>30.000000</td>\n",
       "      <td>0.440000</td>\n",
       "      <td>0.000000</td>\n",
       "      <td>0.000000</td>\n",
       "      <td>33.000000</td>\n",
       "      <td>1.040000</td>\n",
       "      <td>0.000000</td>\n",
       "      <td>0.000000</td>\n",
       "      <td>408.000000</td>\n",
       "    </tr>\n",
       "    <tr>\n",
       "      <th>25%</th>\n",
       "      <td>73.000000</td>\n",
       "      <td>0.000000</td>\n",
       "      <td>143.200000</td>\n",
       "      <td>165.825000</td>\n",
       "      <td>166.80000</td>\n",
       "      <td>8.500000</td>\n",
       "      <td>1.000000</td>\n",
       "      <td>88.000000</td>\n",
       "      <td>24.340000</td>\n",
       "      <td>87.000000</td>\n",
       "      <td>14.092500</td>\n",
       "      <td>86.000000</td>\n",
       "      <td>7.510000</td>\n",
       "      <td>3.000000</td>\n",
       "      <td>2.300000</td>\n",
       "      <td>408.000000</td>\n",
       "    </tr>\n",
       "    <tr>\n",
       "      <th>50%</th>\n",
       "      <td>100.000000</td>\n",
       "      <td>0.000000</td>\n",
       "      <td>179.200000</td>\n",
       "      <td>200.850000</td>\n",
       "      <td>200.85000</td>\n",
       "      <td>10.300000</td>\n",
       "      <td>1.000000</td>\n",
       "      <td>101.000000</td>\n",
       "      <td>30.460000</td>\n",
       "      <td>100.000000</td>\n",
       "      <td>17.075000</td>\n",
       "      <td>100.000000</td>\n",
       "      <td>9.040000</td>\n",
       "      <td>4.000000</td>\n",
       "      <td>2.780000</td>\n",
       "      <td>415.000000</td>\n",
       "    </tr>\n",
       "    <tr>\n",
       "      <th>75%</th>\n",
       "      <td>127.000000</td>\n",
       "      <td>19.000000</td>\n",
       "      <td>216.275000</td>\n",
       "      <td>234.650000</td>\n",
       "      <td>235.40000</td>\n",
       "      <td>12.000000</td>\n",
       "      <td>2.000000</td>\n",
       "      <td>114.000000</td>\n",
       "      <td>36.765000</td>\n",
       "      <td>113.000000</td>\n",
       "      <td>19.945000</td>\n",
       "      <td>113.000000</td>\n",
       "      <td>10.590000</td>\n",
       "      <td>6.000000</td>\n",
       "      <td>3.240000</td>\n",
       "      <td>415.000000</td>\n",
       "    </tr>\n",
       "    <tr>\n",
       "      <th>max</th>\n",
       "      <td>243.000000</td>\n",
       "      <td>51.000000</td>\n",
       "      <td>350.800000</td>\n",
       "      <td>363.700000</td>\n",
       "      <td>395.00000</td>\n",
       "      <td>20.000000</td>\n",
       "      <td>9.000000</td>\n",
       "      <td>165.000000</td>\n",
       "      <td>59.640000</td>\n",
       "      <td>170.000000</td>\n",
       "      <td>30.910000</td>\n",
       "      <td>175.000000</td>\n",
       "      <td>17.770000</td>\n",
       "      <td>19.000000</td>\n",
       "      <td>5.400000</td>\n",
       "      <td>510.000000</td>\n",
       "    </tr>\n",
       "  </tbody>\n",
       "</table>\n",
       "</div>"
      ],
      "text/plain": [
       "       Account_Length  Vmail_Message     Day_Mins     Eve_Mins  Night_Mins  \\\n",
       "count     2666.000000    2666.000000  2666.000000  2666.000000  2666.00000   \n",
       "mean       100.691673       7.981245   179.600713   200.698500   200.52982   \n",
       "std         39.522338      13.647218    54.351004    50.693277    50.71026   \n",
       "min          1.000000       0.000000     2.600000     0.000000    23.20000   \n",
       "25%         73.000000       0.000000   143.200000   165.825000   166.80000   \n",
       "50%        100.000000       0.000000   179.200000   200.850000   200.85000   \n",
       "75%        127.000000      19.000000   216.275000   234.650000   235.40000   \n",
       "max        243.000000      51.000000   350.800000   363.700000   395.00000   \n",
       "\n",
       "         Intl_Mins  CustServ_Calls    Day_Calls   Day_Charge    Eve_Calls  \\\n",
       "count  2666.000000     2666.000000  2666.000000  2666.000000  2666.000000   \n",
       "mean     10.237547        1.573143   100.542761    30.532629    99.963241   \n",
       "std       2.796937        1.338454    19.886485     9.239653    20.082759   \n",
       "min       0.000000        0.000000    30.000000     0.440000     0.000000   \n",
       "25%       8.500000        1.000000    88.000000    24.340000    87.000000   \n",
       "50%      10.300000        1.000000   101.000000    30.460000   100.000000   \n",
       "75%      12.000000        2.000000   114.000000    36.765000   113.000000   \n",
       "max      20.000000        9.000000   165.000000    59.640000   170.000000   \n",
       "\n",
       "        Eve_Charge  Night_Calls  Night_Charge   Intl_Calls  Intl_Charge  \\\n",
       "count  2666.000000  2666.000000   2666.000000  2666.000000  2666.000000   \n",
       "mean     17.059599    99.911853      9.023905     4.450113     2.764647   \n",
       "std       4.308914    19.545034      2.281993     2.441808     0.755163   \n",
       "min       0.000000    33.000000      1.040000     0.000000     0.000000   \n",
       "25%      14.092500    86.000000      7.510000     3.000000     2.300000   \n",
       "50%      17.075000   100.000000      9.040000     4.000000     2.780000   \n",
       "75%      19.945000   113.000000     10.590000     6.000000     3.240000   \n",
       "max      30.910000   175.000000     17.770000    19.000000     5.400000   \n",
       "\n",
       "         Area_Code  \n",
       "count  2666.000000  \n",
       "mean    436.806827  \n",
       "std      42.173756  \n",
       "min     408.000000  \n",
       "25%     408.000000  \n",
       "50%     415.000000  \n",
       "75%     415.000000  \n",
       "max     510.000000  "
      ]
     },
     "execution_count": 24,
     "metadata": {},
     "output_type": "execute_result"
    }
   ],
   "source": [
    "num_ones.describe()"
   ]
  },
  {
   "cell_type": "markdown",
   "id": "d54f3777",
   "metadata": {},
   "source": [
    "### Feature Selection"
   ]
  },
  {
   "cell_type": "markdown",
   "id": "dfcf6348",
   "metadata": {},
   "source": [
    "#### drop the unnecessary features"
   ]
  },
  {
   "cell_type": "code",
   "execution_count": 25,
   "id": "eb7a5d42",
   "metadata": {},
   "outputs": [],
   "source": [
    "def drop_features(df, cols):\n",
    "    df = df.drop(cols, axis=1)\n",
    "    return df\n",
    "telco= drop_features(telco_train,['Area_Code','Phone'])"
   ]
  },
  {
   "cell_type": "code",
   "execution_count": 26,
   "id": "b233a587",
   "metadata": {},
   "outputs": [
    {
     "data": {
      "text/plain": [
       "Index(['Account_Length', 'Vmail_Message', 'Day_Mins', 'Eve_Mins', 'Night_Mins',\n",
       "       'Intl_Mins', 'CustServ_Calls', 'Intl_Plan', 'Vmail_Plan', 'Day_Calls',\n",
       "       'Day_Charge', 'Eve_Calls', 'Eve_Charge', 'Night_Calls', 'Night_Charge',\n",
       "       'Intl_Calls', 'Intl_Charge', 'State', 'Churn'],\n",
       "      dtype='object')"
      ]
     },
     "execution_count": 26,
     "metadata": {},
     "output_type": "execute_result"
    }
   ],
   "source": [
    "telco.columns"
   ]
  },
  {
   "cell_type": "code",
   "execution_count": null,
   "id": "13c3eebd",
   "metadata": {},
   "outputs": [],
   "source": []
  },
  {
   "cell_type": "markdown",
   "id": "3739ca48",
   "metadata": {},
   "source": [
    "#### Find correlated features"
   ]
  },
  {
   "cell_type": "code",
   "execution_count": 27,
   "id": "474bcc1d",
   "metadata": {},
   "outputs": [
    {
     "data": {
      "text/html": [
       "<div>\n",
       "<style scoped>\n",
       "    .dataframe tbody tr th:only-of-type {\n",
       "        vertical-align: middle;\n",
       "    }\n",
       "\n",
       "    .dataframe tbody tr th {\n",
       "        vertical-align: top;\n",
       "    }\n",
       "\n",
       "    .dataframe thead th {\n",
       "        text-align: right;\n",
       "    }\n",
       "</style>\n",
       "<table border=\"1\" class=\"dataframe\">\n",
       "  <thead>\n",
       "    <tr style=\"text-align: right;\">\n",
       "      <th></th>\n",
       "      <th>feature1</th>\n",
       "      <th>feature2</th>\n",
       "      <th>coef</th>\n",
       "    </tr>\n",
       "  </thead>\n",
       "  <tbody>\n",
       "    <tr>\n",
       "      <th>0</th>\n",
       "      <td>Day_Mins</td>\n",
       "      <td>Day_Charge</td>\n",
       "      <td>1.000000</td>\n",
       "    </tr>\n",
       "    <tr>\n",
       "      <th>1</th>\n",
       "      <td>Eve_Charge</td>\n",
       "      <td>Eve_Mins</td>\n",
       "      <td>1.000000</td>\n",
       "    </tr>\n",
       "    <tr>\n",
       "      <th>2</th>\n",
       "      <td>Night_Charge</td>\n",
       "      <td>Night_Mins</td>\n",
       "      <td>0.999999</td>\n",
       "    </tr>\n",
       "    <tr>\n",
       "      <th>3</th>\n",
       "      <td>Intl_Charge</td>\n",
       "      <td>Intl_Mins</td>\n",
       "      <td>0.999993</td>\n",
       "    </tr>\n",
       "    <tr>\n",
       "      <th>4</th>\n",
       "      <td>Vmail_Message</td>\n",
       "      <td>Vmail_Plan</td>\n",
       "      <td>0.957088</td>\n",
       "    </tr>\n",
       "    <tr>\n",
       "      <th>...</th>\n",
       "      <td>...</td>\n",
       "      <td>...</td>\n",
       "      <td>...</td>\n",
       "    </tr>\n",
       "    <tr>\n",
       "      <th>148</th>\n",
       "      <td>Eve_Charge</td>\n",
       "      <td>Day_Mins</td>\n",
       "      <td>0.000157</td>\n",
       "    </tr>\n",
       "    <tr>\n",
       "      <th>149</th>\n",
       "      <td>Day_Mins</td>\n",
       "      <td>Eve_Mins</td>\n",
       "      <td>0.000153</td>\n",
       "    </tr>\n",
       "    <tr>\n",
       "      <th>150</th>\n",
       "      <td>Vmail_Message</td>\n",
       "      <td>Night_Mins</td>\n",
       "      <td>0.000152</td>\n",
       "    </tr>\n",
       "    <tr>\n",
       "      <th>151</th>\n",
       "      <td>Day_Charge</td>\n",
       "      <td>Eve_Charge</td>\n",
       "      <td>0.000147</td>\n",
       "    </tr>\n",
       "    <tr>\n",
       "      <th>152</th>\n",
       "      <td>Eve_Mins</td>\n",
       "      <td>Day_Charge</td>\n",
       "      <td>0.000143</td>\n",
       "    </tr>\n",
       "  </tbody>\n",
       "</table>\n",
       "<p>153 rows × 3 columns</p>\n",
       "</div>"
      ],
      "text/plain": [
       "          feature1    feature2      coef\n",
       "0         Day_Mins  Day_Charge  1.000000\n",
       "1       Eve_Charge    Eve_Mins  1.000000\n",
       "2     Night_Charge  Night_Mins  0.999999\n",
       "3      Intl_Charge   Intl_Mins  0.999993\n",
       "4    Vmail_Message  Vmail_Plan  0.957088\n",
       "..             ...         ...       ...\n",
       "148     Eve_Charge    Day_Mins  0.000157\n",
       "149       Day_Mins    Eve_Mins  0.000153\n",
       "150  Vmail_Message  Night_Mins  0.000152\n",
       "151     Day_Charge  Eve_Charge  0.000147\n",
       "152       Eve_Mins  Day_Charge  0.000143\n",
       "\n",
       "[153 rows x 3 columns]"
      ]
     },
     "execution_count": 27,
     "metadata": {},
     "output_type": "execute_result"
    }
   ],
   "source": [
    "def build_correlation_df(df, num_cols):\n",
    "    '''return correlation dataframe of input df's numerical columns '''\n",
    "    cor_df=df[num_cols].corr().abs().unstack().sort_values(kind='quicksort', ascending=False).reset_index()\n",
    "    cor_df.rename(columns={'level_0':'feature1', 'level_1':'feature2', 0:'coef'}, inplace=True)\n",
    "    # remove every other rows for they are symmetric values. i.e a vs b == b vs a\n",
    "    cor_df.drop(cor_df.iloc[1::2].index, inplace=True)\n",
    "    # create new df without correlation with feature itself\n",
    "    cor_df_noself =cor_df[cor_df.coef!=1].reset_index(drop=True)\n",
    "    return cor_df_noself\n",
    "\n",
    "num_cols=telco.select_dtypes(include=np.number).columns\n",
    "cor_df=build_correlation_df(df=telco_train, num_cols=num_cols)\n",
    "cor_df"
   ]
  },
  {
   "cell_type": "code",
   "execution_count": 28,
   "id": "0f0000dc",
   "metadata": {},
   "outputs": [
    {
     "data": {
      "text/html": [
       "<div>\n",
       "<style scoped>\n",
       "    .dataframe tbody tr th:only-of-type {\n",
       "        vertical-align: middle;\n",
       "    }\n",
       "\n",
       "    .dataframe tbody tr th {\n",
       "        vertical-align: top;\n",
       "    }\n",
       "\n",
       "    .dataframe thead th {\n",
       "        text-align: right;\n",
       "    }\n",
       "</style>\n",
       "<table border=\"1\" class=\"dataframe\">\n",
       "  <thead>\n",
       "    <tr style=\"text-align: right;\">\n",
       "      <th></th>\n",
       "      <th>feature1</th>\n",
       "      <th>feature2</th>\n",
       "      <th>coef</th>\n",
       "    </tr>\n",
       "  </thead>\n",
       "  <tbody>\n",
       "    <tr>\n",
       "      <th>0</th>\n",
       "      <td>Day_Mins</td>\n",
       "      <td>Day_Charge</td>\n",
       "      <td>1.000000</td>\n",
       "    </tr>\n",
       "    <tr>\n",
       "      <th>1</th>\n",
       "      <td>Eve_Charge</td>\n",
       "      <td>Eve_Mins</td>\n",
       "      <td>1.000000</td>\n",
       "    </tr>\n",
       "    <tr>\n",
       "      <th>2</th>\n",
       "      <td>Night_Charge</td>\n",
       "      <td>Night_Mins</td>\n",
       "      <td>0.999999</td>\n",
       "    </tr>\n",
       "    <tr>\n",
       "      <th>3</th>\n",
       "      <td>Intl_Charge</td>\n",
       "      <td>Intl_Mins</td>\n",
       "      <td>0.999993</td>\n",
       "    </tr>\n",
       "    <tr>\n",
       "      <th>4</th>\n",
       "      <td>Vmail_Message</td>\n",
       "      <td>Vmail_Plan</td>\n",
       "      <td>0.957088</td>\n",
       "    </tr>\n",
       "    <tr>\n",
       "      <th>5</th>\n",
       "      <td>Churn</td>\n",
       "      <td>Intl_Plan</td>\n",
       "      <td>0.269064</td>\n",
       "    </tr>\n",
       "    <tr>\n",
       "      <th>6</th>\n",
       "      <td>Churn</td>\n",
       "      <td>CustServ_Calls</td>\n",
       "      <td>0.212852</td>\n",
       "    </tr>\n",
       "    <tr>\n",
       "      <th>7</th>\n",
       "      <td>Churn</td>\n",
       "      <td>Day_Charge</td>\n",
       "      <td>0.191806</td>\n",
       "    </tr>\n",
       "    <tr>\n",
       "      <th>8</th>\n",
       "      <td>Day_Mins</td>\n",
       "      <td>Churn</td>\n",
       "      <td>0.191804</td>\n",
       "    </tr>\n",
       "    <tr>\n",
       "      <th>9</th>\n",
       "      <td>Vmail_Plan</td>\n",
       "      <td>Churn</td>\n",
       "      <td>0.098363</td>\n",
       "    </tr>\n",
       "  </tbody>\n",
       "</table>\n",
       "</div>"
      ],
      "text/plain": [
       "        feature1        feature2      coef\n",
       "0       Day_Mins      Day_Charge  1.000000\n",
       "1     Eve_Charge        Eve_Mins  1.000000\n",
       "2   Night_Charge      Night_Mins  0.999999\n",
       "3    Intl_Charge       Intl_Mins  0.999993\n",
       "4  Vmail_Message      Vmail_Plan  0.957088\n",
       "5          Churn       Intl_Plan  0.269064\n",
       "6          Churn  CustServ_Calls  0.212852\n",
       "7          Churn      Day_Charge  0.191806\n",
       "8       Day_Mins           Churn  0.191804\n",
       "9     Vmail_Plan           Churn  0.098363"
      ]
     },
     "execution_count": 28,
     "metadata": {},
     "output_type": "execute_result"
    }
   ],
   "source": [
    "# we could see Day_Charge and Day_Mins,Eve_Mins and Eve_Charge, Night_Mins and Night_Charge, intl_mins and Intl_Charge\n",
    "# Vmail_Plan and Vmail_Message are highly correlated and we could create new one which based on the pair to replace them \n",
    "cor_df.head(10)"
   ]
  },
  {
   "cell_type": "code",
   "execution_count": null,
   "id": "38563b3a",
   "metadata": {},
   "outputs": [],
   "source": []
  },
  {
   "cell_type": "code",
   "execution_count": null,
   "id": "9c2c6ebd",
   "metadata": {},
   "outputs": [],
   "source": []
  },
  {
   "cell_type": "markdown",
   "id": "20bc369c",
   "metadata": {},
   "source": [
    "### Feature Engineering\n",
    "Based on the previous findings to create new features and drop redundant features"
   ]
  },
  {
   "cell_type": "code",
   "execution_count": 85,
   "id": "572f856a",
   "metadata": {},
   "outputs": [],
   "source": [
    "def add_new_features(df):\n",
    "    '''\n",
    "    Creat new features like Total minutes, total charges, total calls, cost per call and minutes per call.\n",
    "    Also drop the redundent features\n",
    "    '''\n",
    "    df['Total_Mins'] =df[['Day_Mins', 'Eve_Mins', 'Night_Mins','Intl_Mins']].sum(axis=1)\n",
    "    df['Total_Charges'] =df[['Day_Charge', 'Eve_Charge', 'Night_Charge','Intl_Charge']].sum(axis=1)\n",
    "    df['Total_Calls'] =df[['Day_Calls', 'Eve_Calls', 'Night_Calls','Intl_Calls']].sum(axis=1)\n",
    "    df['Cost_Call'] = round(df['Total_Charges']/df['Total_Calls'],4)\n",
    "    df['Mins_Call'] = round(df['Total_Mins']/df['Total_Calls'],4)\n",
    "    df.drop(['Day_Charge', 'Eve_Charge', 'Night_Charge','Intl_Charge'],axis=1,inplace=True)\n",
    "\n",
    "    \n",
    "    return df\n",
    "    "
   ]
  },
  {
   "cell_type": "code",
   "execution_count": 30,
   "id": "98d35011",
   "metadata": {},
   "outputs": [],
   "source": [
    "telco_train = add_new_features(telco_train)"
   ]
  },
  {
   "cell_type": "code",
   "execution_count": 31,
   "id": "4e0b64d4",
   "metadata": {},
   "outputs": [
    {
     "data": {
      "text/html": [
       "<div>\n",
       "<style scoped>\n",
       "    .dataframe tbody tr th:only-of-type {\n",
       "        vertical-align: middle;\n",
       "    }\n",
       "\n",
       "    .dataframe tbody tr th {\n",
       "        vertical-align: top;\n",
       "    }\n",
       "\n",
       "    .dataframe thead th {\n",
       "        text-align: right;\n",
       "    }\n",
       "</style>\n",
       "<table border=\"1\" class=\"dataframe\">\n",
       "  <thead>\n",
       "    <tr style=\"text-align: right;\">\n",
       "      <th></th>\n",
       "      <th>Account_Length</th>\n",
       "      <th>Vmail_Message</th>\n",
       "      <th>Day_Mins</th>\n",
       "      <th>Eve_Mins</th>\n",
       "      <th>Night_Mins</th>\n",
       "      <th>Intl_Mins</th>\n",
       "      <th>CustServ_Calls</th>\n",
       "      <th>Intl_Plan</th>\n",
       "      <th>Vmail_Plan</th>\n",
       "      <th>Day_Calls</th>\n",
       "      <th>...</th>\n",
       "      <th>Intl_Calls</th>\n",
       "      <th>State</th>\n",
       "      <th>Area_Code</th>\n",
       "      <th>Phone</th>\n",
       "      <th>Churn</th>\n",
       "      <th>Total_Mins</th>\n",
       "      <th>Total_Charges</th>\n",
       "      <th>Total_Calls</th>\n",
       "      <th>Cost_Call</th>\n",
       "      <th>Mins_Call</th>\n",
       "    </tr>\n",
       "  </thead>\n",
       "  <tbody>\n",
       "    <tr>\n",
       "      <th>817</th>\n",
       "      <td>243</td>\n",
       "      <td>0</td>\n",
       "      <td>95.5</td>\n",
       "      <td>163.7</td>\n",
       "      <td>264.2</td>\n",
       "      <td>6.6</td>\n",
       "      <td>2</td>\n",
       "      <td>0</td>\n",
       "      <td>0</td>\n",
       "      <td>92</td>\n",
       "      <td>...</td>\n",
       "      <td>6</td>\n",
       "      <td>UT</td>\n",
       "      <td>510</td>\n",
       "      <td>355-9360</td>\n",
       "      <td>0</td>\n",
       "      <td>530.0</td>\n",
       "      <td>43.82</td>\n",
       "      <td>279</td>\n",
       "      <td>0.1571</td>\n",
       "      <td>1.8996</td>\n",
       "    </tr>\n",
       "    <tr>\n",
       "      <th>1373</th>\n",
       "      <td>108</td>\n",
       "      <td>0</td>\n",
       "      <td>112.0</td>\n",
       "      <td>193.7</td>\n",
       "      <td>208.9</td>\n",
       "      <td>4.1</td>\n",
       "      <td>4</td>\n",
       "      <td>0</td>\n",
       "      <td>0</td>\n",
       "      <td>105</td>\n",
       "      <td>...</td>\n",
       "      <td>4</td>\n",
       "      <td>SC</td>\n",
       "      <td>415</td>\n",
       "      <td>399-6233</td>\n",
       "      <td>1</td>\n",
       "      <td>518.7</td>\n",
       "      <td>46.01</td>\n",
       "      <td>312</td>\n",
       "      <td>0.1475</td>\n",
       "      <td>1.6625</td>\n",
       "    </tr>\n",
       "    <tr>\n",
       "      <th>679</th>\n",
       "      <td>75</td>\n",
       "      <td>0</td>\n",
       "      <td>222.4</td>\n",
       "      <td>327.0</td>\n",
       "      <td>208.0</td>\n",
       "      <td>8.7</td>\n",
       "      <td>1</td>\n",
       "      <td>1</td>\n",
       "      <td>0</td>\n",
       "      <td>78</td>\n",
       "      <td>...</td>\n",
       "      <td>9</td>\n",
       "      <td>TX</td>\n",
       "      <td>415</td>\n",
       "      <td>384-2372</td>\n",
       "      <td>1</td>\n",
       "      <td>766.1</td>\n",
       "      <td>77.32</td>\n",
       "      <td>302</td>\n",
       "      <td>0.2560</td>\n",
       "      <td>2.5368</td>\n",
       "    </tr>\n",
       "    <tr>\n",
       "      <th>56</th>\n",
       "      <td>141</td>\n",
       "      <td>0</td>\n",
       "      <td>126.9</td>\n",
       "      <td>180.0</td>\n",
       "      <td>140.8</td>\n",
       "      <td>8.0</td>\n",
       "      <td>1</td>\n",
       "      <td>0</td>\n",
       "      <td>0</td>\n",
       "      <td>98</td>\n",
       "      <td>...</td>\n",
       "      <td>2</td>\n",
       "      <td>CO</td>\n",
       "      <td>415</td>\n",
       "      <td>340-5121</td>\n",
       "      <td>0</td>\n",
       "      <td>455.7</td>\n",
       "      <td>45.37</td>\n",
       "      <td>290</td>\n",
       "      <td>0.1564</td>\n",
       "      <td>1.5714</td>\n",
       "    </tr>\n",
       "    <tr>\n",
       "      <th>1993</th>\n",
       "      <td>86</td>\n",
       "      <td>0</td>\n",
       "      <td>216.3</td>\n",
       "      <td>266.3</td>\n",
       "      <td>214.0</td>\n",
       "      <td>4.5</td>\n",
       "      <td>0</td>\n",
       "      <td>0</td>\n",
       "      <td>0</td>\n",
       "      <td>96</td>\n",
       "      <td>...</td>\n",
       "      <td>3</td>\n",
       "      <td>IN</td>\n",
       "      <td>510</td>\n",
       "      <td>357-7893</td>\n",
       "      <td>0</td>\n",
       "      <td>701.1</td>\n",
       "      <td>70.26</td>\n",
       "      <td>286</td>\n",
       "      <td>0.2457</td>\n",
       "      <td>2.4514</td>\n",
       "    </tr>\n",
       "  </tbody>\n",
       "</table>\n",
       "<p>5 rows × 22 columns</p>\n",
       "</div>"
      ],
      "text/plain": [
       "      Account_Length  Vmail_Message  Day_Mins  Eve_Mins  Night_Mins  \\\n",
       "817              243              0      95.5     163.7       264.2   \n",
       "1373             108              0     112.0     193.7       208.9   \n",
       "679               75              0     222.4     327.0       208.0   \n",
       "56               141              0     126.9     180.0       140.8   \n",
       "1993              86              0     216.3     266.3       214.0   \n",
       "\n",
       "      Intl_Mins  CustServ_Calls  Intl_Plan  Vmail_Plan  Day_Calls  ...  \\\n",
       "817         6.6               2          0           0         92  ...   \n",
       "1373        4.1               4          0           0        105  ...   \n",
       "679         8.7               1          1           0         78  ...   \n",
       "56          8.0               1          0           0         98  ...   \n",
       "1993        4.5               0          0           0         96  ...   \n",
       "\n",
       "      Intl_Calls  State  Area_Code     Phone  Churn Total_Mins  Total_Charges  \\\n",
       "817            6     UT        510  355-9360      0      530.0          43.82   \n",
       "1373           4     SC        415  399-6233      1      518.7          46.01   \n",
       "679            9     TX        415  384-2372      1      766.1          77.32   \n",
       "56             2     CO        415  340-5121      0      455.7          45.37   \n",
       "1993           3     IN        510  357-7893      0      701.1          70.26   \n",
       "\n",
       "      Total_Calls  Cost_Call  Mins_Call  \n",
       "817           279     0.1571     1.8996  \n",
       "1373          312     0.1475     1.6625  \n",
       "679           302     0.2560     2.5368  \n",
       "56            290     0.1564     1.5714  \n",
       "1993          286     0.2457     2.4514  \n",
       "\n",
       "[5 rows x 22 columns]"
      ]
     },
     "execution_count": 31,
     "metadata": {},
     "output_type": "execute_result"
    }
   ],
   "source": [
    "telco_train.head()"
   ]
  },
  {
   "cell_type": "code",
   "execution_count": 32,
   "id": "02a06bd6",
   "metadata": {},
   "outputs": [],
   "source": [
    "# create base line model based on base feature engineering\n",
    "def data_preparing_pipeline(df,num_cols,encoding_state=True, scaling_data=True, add_new_feature=False):    \n",
    "    '''This is to do all data preparing work. num_cols is the columns that need to be scaled'''\n",
    "    df = encoding_binary_features(df,['Vmail_Plan','Intl_Plan'])\n",
    "    if encoding_state:\n",
    "        df_state = pd.get_dummies(df['State'])\n",
    "        df =pd.concat([df,df_state], axis=1).drop('State', axis=1)\n",
    "    else: df= df.drop('State', axis=1)\n",
    "    df =drop_features(df,['Area_Code','Phone'])\n",
    "\n",
    "    if add_new_feature:\n",
    "        df=add_new_features(df)\n",
    "   \n",
    "    if scaling_data:\n",
    "        df_scaled = feature_scaling(df=df[num_cols], column_names=num_cols)\n",
    "        df1=df.drop(num_cols,axis=1)        \n",
    "        df=pd.concat([df1,df_scaled], axis=1)       \n",
    "\n",
    "       \n",
    "    return df\n"
   ]
  },
  {
   "cell_type": "code",
   "execution_count": null,
   "id": "59bcdc2f",
   "metadata": {},
   "outputs": [],
   "source": []
  },
  {
   "cell_type": "code",
   "execution_count": null,
   "id": "f062d3c8",
   "metadata": {},
   "outputs": [],
   "source": []
  },
  {
   "cell_type": "code",
   "execution_count": null,
   "id": "c0d53517",
   "metadata": {},
   "outputs": [],
   "source": []
  },
  {
   "cell_type": "markdown",
   "id": "59dd0b29",
   "metadata": {},
   "source": [
    "## Model Selection"
   ]
  },
  {
   "cell_type": "code",
   "execution_count": null,
   "id": "aecbc1f9",
   "metadata": {},
   "outputs": [],
   "source": []
  },
  {
   "cell_type": "code",
   "execution_count": 33,
   "id": "b85a02ac",
   "metadata": {},
   "outputs": [],
   "source": [
    "def model_tune(model,X_train, y_train, X_test):\n",
    "    model.fit(X_train, y_train)\n",
    "    y_predict = lr.predict(X_test)\n",
    "    print('precision score is {:.4f}'.format(precision_score(y_test, y_predict)))\n",
    "    print('recall score is {:.4f}'.format(recall_score(y_test, y_predict)))\n",
    "    print('accuracy score is {:.4f}'.format(accuracy_score(y_test, y_predict)))\n",
    "    \n",
    "    y_pred_prob = model.predict_proba(X_test)[:,1]\n",
    "    fpr, tpr, thresholds = roc_curve(y_test, y_pred_prob)\n",
    "    plt.plot(fpr,tpr)\n",
    "    plt.xlabel(\"False Positive Rate\")\n",
    "    plt.ylabel(\"True Positive Rate\")\n",
    "    plt.plot([0, 1], [0, 1], \"k--\")\n",
    "    plt.show()\n"
   ]
  },
  {
   "cell_type": "markdown",
   "id": "e775c0ba",
   "metadata": {},
   "source": [
    "### Use logistic Regression Model as baseline(not work well)"
   ]
  },
  {
   "cell_type": "code",
   "execution_count": 34,
   "id": "6612869f",
   "metadata": {},
   "outputs": [],
   "source": [
    "def plot_coef(model, feature_name, top_features=10):\n",
    "    coef = model.coef_.ravel()\n",
    "    negative_top_coefs = np.argsort(coef)[:top_features]\n",
    "    positive_top_coefs = np.argsort(coef)[-top_features:]\n",
    "    top_coefs=np.hstack([negative_top_coefs, positive_top_coefs])\n",
    "    \n",
    "    #Create plot\n",
    "    plt.figure(figsize=(15,5))\n",
    "    colors =['red' if c < 0 else 'blue' for c in coef[top_coefs]]\n",
    "    plt.bar(x=np.arange(2* top_features), height=coef[top_coefs], color=colors)\n",
    "#     feature_name = np.array(feature_name)\n",
    "    plt.xticks(np.arange(2*top_features), feature_name[top_coefs], rotation=60,ha='right')\n",
    "\n",
    "    plt.show()\n"
   ]
  },
  {
   "cell_type": "code",
   "execution_count": null,
   "id": "ca48bb7f",
   "metadata": {},
   "outputs": [],
   "source": []
  },
  {
   "cell_type": "markdown",
   "id": "5177d455",
   "metadata": {},
   "source": [
    "#### Train dataset that does not add new features"
   ]
  },
  {
   "cell_type": "code",
   "execution_count": 35,
   "id": "23c7d7af",
   "metadata": {},
   "outputs": [],
   "source": [
    "lr= LogisticRegression(random_state=42)\n",
    "X_train_copy = X_train.copy().reset_index(drop=True)\n",
    "X_test_copy =X_test.copy().reset_index(drop=True)\n",
    "num_cols = ['Account_Length', 'Vmail_Message', 'Day_Mins', 'Eve_Mins', 'Night_Mins',\n",
    "       'Intl_Mins', 'CustServ_Calls',  'Day_Calls',\n",
    "       'Day_Charge', 'Eve_Calls', 'Eve_Charge', 'Night_Calls', 'Night_Charge',\n",
    "       'Intl_Calls', 'Intl_Charge']\n",
    "X_train_processed = data_preparing_pipeline(X_train_copy,encoding_state=False,num_cols=num_cols,add_new_feature=False)\n",
    "X_test_processed = data_preparing_pipeline(X_test_copy,encoding_state=False,num_cols=num_cols,add_new_feature=False)"
   ]
  },
  {
   "cell_type": "code",
   "execution_count": 36,
   "id": "f3adb7c3",
   "metadata": {},
   "outputs": [
    {
     "name": "stdout",
     "output_type": "stream",
     "text": [
      "precision score is 0.5862\n",
      "recall score is 0.1683\n",
      "accuracy score is 0.8561\n"
     ]
    },
    {
     "data": {
      "image/png": "[encoded data removed]",
      "text/plain": [
       "<Figure size 432x288 with 1 Axes>"
      ]
     },
     "metadata": {
      "needs_background": "light"
     },
     "output_type": "display_data"
    },
    {
     "data": {
      "image/png": "[encoded data removed]",
      "text/plain": [
       "<Figure size 1080x360 with 1 Axes>"
      ]
     },
     "metadata": {
      "needs_background": "light"
     },
     "output_type": "display_data"
    }
   ],
   "source": [
    "model_tune(lr,  X_train_processed, y_train, X_test_processed)\n",
    "plot_coef(lr, feature_name=X_test_processed.columns)"
   ]
  },
  {
   "cell_type": "code",
   "execution_count": null,
   "id": "25b8e83e",
   "metadata": {},
   "outputs": [],
   "source": []
  },
  {
   "cell_type": "markdown",
   "id": "1982b0d8",
   "metadata": {},
   "source": [
    "#### Train dataset that does  add new features"
   ]
  },
  {
   "cell_type": "code",
   "execution_count": 37,
   "id": "9348d7a6",
   "metadata": {},
   "outputs": [],
   "source": [
    "lr= LogisticRegression(random_state=42)\n",
    "num_cols = ['Account_Length', 'Vmail_Message', 'Day_Mins', 'Eve_Mins', 'Night_Mins',\n",
    "       'Intl_Mins', 'CustServ_Calls',  'Day_Calls', 'Eve_Calls', 'Night_Calls','Intl_Calls'\n",
    "#             , 'Intl_Charge','Day_Charge', 'Eve_Charge', 'Night_Charge'\n",
    "            ,'Total_Mins','Total_Charges', 'Total_Calls', 'Cost_Call','Mins_Call']\n",
    "X_train_copy = X_train.copy().reset_index(drop=True)\n",
    "X_test_copy =X_test.copy().reset_index(drop=True)\n",
    "X_train_processed_f = data_preparing_pipeline(X_train_copy,encoding_state=False,num_cols=num_cols,add_new_feature=True)\n",
    "X_test_processed_f = data_preparing_pipeline(X_test_copy,encoding_state=False,num_cols=num_cols,add_new_feature=True)\n"
   ]
  },
  {
   "cell_type": "code",
   "execution_count": 38,
   "id": "750643a8",
   "metadata": {},
   "outputs": [
    {
     "name": "stdout",
     "output_type": "stream",
     "text": [
      "precision score is 0.5862\n",
      "recall score is 0.1683\n",
      "accuracy score is 0.8561\n"
     ]
    },
    {
     "data": {
      "image/png": "[encoded data removed]",
      "text/plain": [
       "<Figure size 432x288 with 1 Axes>"
      ]
     },
     "metadata": {
      "needs_background": "light"
     },
     "output_type": "display_data"
    }
   ],
   "source": [
    "model_tune(lr,  X_train_processed_f, y_train, X_test_processed_f)"
   ]
  },
  {
   "cell_type": "code",
   "execution_count": 39,
   "id": "d99721ee",
   "metadata": {},
   "outputs": [
    {
     "data": {
      "image/png": "[encoded data removed]",
      "text/plain": [
       "<Figure size 1080x360 with 1 Axes>"
      ]
     },
     "metadata": {
      "needs_background": "light"
     },
     "output_type": "display_data"
    }
   ],
   "source": [
    "plot_coef(lr, feature_name=X_test_processed_f.columns, top_features=9)"
   ]
  },
  {
   "cell_type": "markdown",
   "id": "1c82b86b",
   "metadata": {},
   "source": [
    "* LR is not good for this problem for there exists non linear relationships, but it gives the features that have high correlation with the churn, like Intl_Plan, CustServ_Calls, Total_Charges and Vmail_Plan "
   ]
  },
  {
   "cell_type": "markdown",
   "id": "5383bc3d",
   "metadata": {},
   "source": [
    "### Check different models\n",
    "* Try as many as possible basic models to find some promising ones\n",
    "* Try both model sets in original features and transformed+added features"
   ]
  },
  {
   "cell_type": "markdown",
   "id": "b0ad7eb5",
   "metadata": {},
   "source": [
    "#### Build multiple models "
   ]
  },
  {
   "cell_type": "code",
   "execution_count": null,
   "id": "c543cf19",
   "metadata": {},
   "outputs": [],
   "source": [
    "seed=42\n",
    "\n",
    "lr= LogisticRegression(random_state=42)\n",
    "# for svc, different kernel‘linear’, ‘poly’, ‘rbf’, ‘sigmoid’, ‘precomputed’ are worth to try\n",
    "svc_rbf = SVC(random_state=42)\n",
    "svc_linear = SVC(kernel='linear',random_state=42)\n",
    "svc_poly = SVC(kernel='poly',random_state=42)\n",
    "svc_sigmoid = SVC(kernel='sigmoid',random_state=42)\n",
    "svc_precomputed = SVC(kernel='precomputed',random_state=42)\n",
    "dt = DecisionTreeClassifier(random_state=42)\n",
    "ext_tree = ExtraTreeClassifier(random_state=42)\n",
    "rdm_tree =RandomForestClassifier(random_state=42)\n",
    "sgd_clf = SGDClassifier(random_state=42)\n",
    "adaboost =AdaBoostClassifier(random_state=42)\n",
    "xgboost = XGBClassifier(random_state=42)\n",
    "gb_clf= GradientBoostingClassifier(random_state=42)\n",
    "model_dict={'lr':lr, 'svc_rbf':svc_rbf, 'svc_poly':svc_poly,\n",
    "            'svc_sigmoid':svc_sigmoid, 'dt':dt,\n",
    "            'ext_tree':ext_tree,'rdm_tree':rdm_tree,'sgd':sgd_clf, 'adaboost':adaboost,\n",
    "           'xgboost':xgboost, 'gb_clf':gb_clf}"
   ]
  },
  {
   "cell_type": "markdown",
   "id": "4d3f1a48",
   "metadata": {},
   "source": [
    "#### with Original columns(after  necessary transfomation) "
   ]
  },
  {
   "cell_type": "code",
   "execution_count": 40,
   "id": "2a50404f",
   "metadata": {},
   "outputs": [
    {
     "name": "stdout",
     "output_type": "stream",
     "text": [
      "lr 0.1910 recall with a standard deviation of 0.066\n",
      "svc_rbf 0.3843 recall with a standard deviation of 0.074\n",
      "svc_poly 0.4263 recall with a standard deviation of 0.086\n",
      "svc_sigmoid 0.1099 recall with a standard deviation of 0.042\n",
      "dt 0.7252 recall with a standard deviation of 0.061\n",
      "ext_tree 0.5183 recall with a standard deviation of 0.066\n",
      "rdm_tree 0.7433 recall with a standard deviation of 0.050\n",
      "sgd 0.2283 recall with a standard deviation of 0.107\n",
      "adaboost 0.3271 recall with a standard deviation of 0.081\n",
      "xgboost 0.7538 recall with a standard deviation of 0.070\n",
      "gb_clf 0.7511 recall with a standard deviation of 0.056\n"
     ]
    }
   ],
   "source": [
    "cv_scores={}\n",
    "\n",
    "for name, model in model_dict.items():\n",
    "    cv_score= cross_val_score(model,X_train_processed,y_train, cv=10, scoring='recall')\n",
    "    cv_scores[name]=cv_score\n",
    "    print(\"%s %0.4f recall with a standard deviation of %0.3f\" % (name, cv_score.mean(), cv_score.std()))\n",
    "    \n",
    "# if only using transformed original features,\n",
    "# xgboost, gb_clf,rdm_tree,dt,ext_tree and svc_poly are top6 models from recall score"
   ]
  },
  {
   "cell_type": "code",
   "execution_count": 41,
   "id": "2c35c529",
   "metadata": {},
   "outputs": [
    {
     "name": "stdout",
     "output_type": "stream",
     "text": [
      "lr 0.5386 precision with a standard deviation of 0.118\n",
      "svc_rbf 0.8956 precision with a standard deviation of 0.070\n",
      "svc_poly 0.8970 precision with a standard deviation of 0.060\n",
      "svc_sigmoid 0.2105 precision with a standard deviation of 0.068\n",
      "dt 0.6759 precision with a standard deviation of 0.081\n",
      "ext_tree 0.4947 precision with a standard deviation of 0.037\n",
      "rdm_tree 0.9520 precision with a standard deviation of 0.035\n",
      "sgd 0.5236 precision with a standard deviation of 0.145\n",
      "adaboost 0.6003 precision with a standard deviation of 0.100\n",
      "xgboost 0.9198 precision with a standard deviation of 0.043\n",
      "gb_clf 0.9162 precision with a standard deviation of 0.055\n"
     ]
    }
   ],
   "source": [
    "for name, model in model_dict.items():\n",
    "    cv_score= cross_val_score(model,X_train_processed,y_train, cv=10, scoring='precision')\n",
    "    cv_scores[name]=cv_score\n",
    "    print(\"%s %0.4f precision with a standard deviation of %0.3f\" % (name, cv_score.mean(), cv_score.std()))\n",
    "    \n",
    "# rdm_tree,xgboost, gb_clf, svc_poly, svc_rbf and dt  are top6 models based on precision score"
   ]
  },
  {
   "cell_type": "code",
   "execution_count": 81,
   "id": "41c3d096",
   "metadata": {},
   "outputs": [
    {
     "name": "stdout",
     "output_type": "stream",
     "text": [
      "lr 0.8612 accuracy with a standard deviation of 0.009\n",
      "svc_rbf 0.9055 accuracy with a standard deviation of 0.012\n",
      "svc_poly 0.9103 accuracy with a standard deviation of 0.011\n",
      "svc_sigmoid 0.8155 accuracy with a standard deviation of 0.008\n",
      "dt 0.9096 accuracy with a standard deviation of 0.021\n",
      "ext_tree 0.8552 accuracy with a standard deviation of 0.011\n",
      "rdm_tree 0.9576 accuracy with a standard deviation of 0.007\n",
      "sgd 0.8593 accuracy with a standard deviation of 0.020\n",
      "adaboost 0.8725 accuracy with a standard deviation of 0.014\n",
      "xgboost 0.9550 accuracy with a standard deviation of 0.010\n",
      "gb_clf 0.9539 accuracy with a standard deviation of 0.008\n"
     ]
    }
   ],
   "source": [
    "for name, model in model_dict.items():\n",
    "    cv_score= cross_val_score(model,X_train_processed,y_train, cv=10, scoring='accuracy')\n",
    "    cv_scores[name]=cv_score\n",
    "    print(\"%s %0.4f accuracy with a standard deviation of %0.3f\" % (name, cv_score.mean(), cv_score.std()))\n",
    "#  rdm_tree,xgboost, gb_clf, svc_poly, svc_rbf and dt  are top6 models based on accuracy score"
   ]
  },
  {
   "cell_type": "markdown",
   "id": "16d8a369",
   "metadata": {},
   "source": [
    "#### After add new features"
   ]
  },
  {
   "cell_type": "code",
   "execution_count": 45,
   "id": "2ba59521",
   "metadata": {},
   "outputs": [
    {
     "name": "stdout",
     "output_type": "stream",
     "text": [
      "lr 0.1964 recall with a standard deviation of 0.064\n",
      "svc_rbf 0.4867 recall with a standard deviation of 0.056\n",
      "svc_poly 0.4789 recall with a standard deviation of 0.078\n",
      "svc_sigmoid 0.0995 recall with a standard deviation of 0.047\n",
      "dt 0.8455 recall with a standard deviation of 0.066\n",
      "ext_tree 0.5571 recall with a standard deviation of 0.090\n",
      "rdm_tree 0.8297 recall with a standard deviation of 0.072\n",
      "sgd 0.2462 recall with a standard deviation of 0.141\n",
      "adaboost 0.5366 recall with a standard deviation of 0.077\n",
      "xgboost 0.8532 recall with a standard deviation of 0.066\n",
      "gb_clf 0.8585 recall with a standard deviation of 0.070\n"
     ]
    }
   ],
   "source": [
    "for name, model in model_dict.items():\n",
    "    cv_score= cross_val_score(model,X_train_processed_f,y_train, cv=10, scoring='recall')\n",
    "    cv_scores[name]=cv_score\n",
    "    print(\"%s %0.4f recall with a standard deviation of %0.3f\" % (name, cv_score.mean(), cv_score.std()))\n",
    "    \n",
    "# After add new features, the overall recalls are  improved\n",
    "#  gb_clf,xgboost,rdm_tree,dt,  ext_tree and ada_boost  are top6 models based on recall score"
   ]
  },
  {
   "cell_type": "code",
   "execution_count": 82,
   "id": "ccb2ce38",
   "metadata": {},
   "outputs": [
    {
     "name": "stdout",
     "output_type": "stream",
     "text": [
      "lr 0.8616 accuracy with a standard deviation of 0.008\n",
      "svc_rbf 0.9201 accuracy with a standard deviation of 0.010\n",
      "svc_poly 0.9145 accuracy with a standard deviation of 0.011\n",
      "svc_sigmoid 0.7885 accuracy with a standard deviation of 0.023\n",
      "dt 0.9452 accuracy with a standard deviation of 0.013\n",
      "ext_tree 0.8732 accuracy with a standard deviation of 0.019\n",
      "rdm_tree 0.9756 accuracy with a standard deviation of 0.010\n",
      "sgd 0.8646 accuracy with a standard deviation of 0.017\n",
      "adaboost 0.9088 accuracy with a standard deviation of 0.015\n",
      "xgboost 0.9786 accuracy with a standard deviation of 0.009\n",
      "gb_clf 0.9790 accuracy with a standard deviation of 0.011\n"
     ]
    }
   ],
   "source": [
    "for name, model in model_dict.items():\n",
    "    cv_score= cross_val_score(model,X_train_processed_f,y_train, cv=10, scoring='accuracy')\n",
    "    cv_scores[name]=cv_score\n",
    "    print(\"%s %0.4f accuracy with a standard deviation of %0.3f\" % (name, cv_score.mean(), cv_score.std()))\n",
    "    \n",
    "# After add new features, the overall accuraries are improved\n",
    "#  gb_clf,xgboost, rdm_tree,dt,svc_rbf and svc_poly are top6 models based on accuracy score"
   ]
  },
  {
   "cell_type": "code",
   "execution_count": 44,
   "id": "d713ab58",
   "metadata": {},
   "outputs": [
    {
     "name": "stdout",
     "output_type": "stream",
     "text": [
      "lr 0.5436 precision with a standard deviation of 0.096\n",
      "svc_rbf 0.9182 precision with a standard deviation of 0.058\n",
      "svc_poly 0.8674 precision with a standard deviation of 0.062\n",
      "svc_sigmoid 0.1507 precision with a standard deviation of 0.074\n",
      "dt 0.7911 precision with a standard deviation of 0.052\n",
      "ext_tree 0.5625 precision with a standard deviation of 0.075\n",
      "rdm_tree 1.0000 precision with a standard deviation of 0.000\n",
      "sgd 0.6452 precision with a standard deviation of 0.175\n",
      "adaboost 0.7579 precision with a standard deviation of 0.079\n",
      "xgboost 0.9971 precision with a standard deviation of 0.009\n",
      "gb_clf 0.9937 precision with a standard deviation of 0.013\n"
     ]
    }
   ],
   "source": [
    "for name, model in model_dict.items():\n",
    "    cv_score= cross_val_score(model,X_train_processed_f,y_train, cv=10, scoring='precision')\n",
    "    cv_scores[name]=cv_score\n",
    "    print(\"%s %0.4f precision with a standard deviation of %0.3f\" % (name, cv_score.mean(), cv_score.std()))\n",
    "    \n",
    "# The overall precisions are also improved\n",
    "# The random tree is overfitting. the other top 5 models are xgboost, gb_clf, svc_rbf, svc_poly and dt"
   ]
  },
  {
   "cell_type": "markdown",
   "id": "3c5d29ca",
   "metadata": {},
   "source": [
    "#### baseline"
   ]
  },
  {
   "cell_type": "code",
   "execution_count": 46,
   "id": "5e8676d8",
   "metadata": {},
   "outputs": [
    {
     "name": "stdout",
     "output_type": "stream",
     "text": [
      "0.4950 recall\n",
      "0.9804 precision\n",
      "0.9220 accuracy\n",
      "0.6579 f1 score\n"
     ]
    }
   ],
   "source": [
    "# Using svc_rbf model as the base model and get scores before adding new features\n",
    "svc_rbf.fit(X_train_processed, y_train)\n",
    "y_test_predict_base = svc_rbf.predict(X_test_processed)\n",
    "print(\"%0.4f recall\"%( recall_score(y_test, y_test_predict_base)))\n",
    "print(\"%0.4f precision\"%(precision_score(y_test, y_test_predict_base)))\n",
    "print(\"%0.4f accuracy\"%(accuracy_score(y_test,y_test_predict_base)))\n",
    "print(\"%0.4f f1 score\"%(f1_score(y_test,y_test_predict_base)))"
   ]
  },
  {
   "cell_type": "code",
   "execution_count": 80,
   "id": "872230c6",
   "metadata": {},
   "outputs": [
    {
     "name": "stdout",
     "output_type": "stream",
     "text": [
      "0.5149 recall\n",
      "0.9630 precision\n",
      "0.9235 accuracy\n",
      "0.6710 f1 score\n"
     ]
    }
   ],
   "source": [
    "# Using svc_rbf as the base model and get scores after adding new features\n",
    "svc_rbf.fit(X_train_processed_f, y_train)\n",
    "y_test_predict_base = svc_rbf.predict(X_test_processed_f)\n",
    "print(\"%0.4f recall\"%( recall_score(y_test, y_test_predict_base)))\n",
    "print(\"%0.4f precision\"%(precision_score(y_test, y_test_predict_base)))\n",
    "print(\"%0.4f accuracy\"%(accuracy_score(y_test,y_test_predict_base)))\n",
    "print(\"%0.4f f1 score\"%(f1_score(y_test,y_test_predict_base)))"
   ]
  },
  {
   "cell_type": "markdown",
   "id": "da70be8c",
   "metadata": {},
   "source": [
    "#### Conclusion\n",
    "* Adding new features brings overall performance improvement\n",
    "* GradientBoostingclf, xgboost, randomForest those three ensemble method are top 3 models. followed by decision tree, svc with poly kernel and rbf kernel. These indicates that there exists nonlinear relationship between features and target"
   ]
  },
  {
   "cell_type": "markdown",
   "id": "76de9392",
   "metadata": {},
   "source": [
    "### Fine tune the parameters"
   ]
  },
  {
   "cell_type": "code",
   "execution_count": 48,
   "id": "5d5008cb",
   "metadata": {},
   "outputs": [],
   "source": [
    "# Focus on random tree, GradientBoostingclf and xgboost to tune the parameters on processed features\n",
    "\n",
    "classifiers =[\n",
    "    RandomForestClassifier(random_state=42),\n",
    "    XGBClassifier(random_state=42, objective='binary:logistic'),\n",
    "    GradientBoostingClassifier(random_state=42)\n",
    "]\n",
    "\n",
    "classifier_names=[\n",
    "    'rf',\n",
    "    'xgboost',\n",
    "    'gbc'\n",
    "]\n",
    "\n"
   ]
  },
  {
   "cell_type": "code",
   "execution_count": 54,
   "id": "9b83d3ca",
   "metadata": {},
   "outputs": [],
   "source": [
    "# since the dataset and features is not huge, I use gridsearch method here\n",
    "def GridSearchCV_work(pipeline, train_x, train_y, test_x, test_y, param_grid, score= \"recall\"):\n",
    "    response={}\n",
    "    gridsearch=GridSearchCV(estimator=pipeline, param_grid=param_grid, scoring=score)\n",
    "    search = gridsearch.fit(train_x, train_y)\n",
    "    print('GridSearch Best parameters:', search.best_params_)\n",
    "    print('GridSearch Best Score:',search.best_score_)\n",
    "    predict_y = search.best_estimator_.predict(test_x)\n",
    "    recalls=recall_score(test_y, predict_y)\n",
    "    precisions=precision_score(test_y, predict_y)\n",
    "    accuracys=accuracy_score(test_y, predict_y)\n",
    "    f1=f1_score(test_y, predict_y)\n",
    "    print(\"%0.4f recall\"%( recalls))\n",
    "    print(\"%0.4f precision\"%(precisions))\n",
    "    print(\"%0.4f accuracy\"%(accuracys))\n",
    "    print(\"%0.4f f1 score\"%(f1))\n",
    "    response['predict_y']=predict_y\n",
    "    response['accuracy_score']=accuracys\n",
    "    response['recall_score']=recalls\n",
    "    response['precision_score']=precisions\n",
    "    response['f1_score']=f1\n",
    "    response['model'] =grid_search.best_estimator_\n",
    "    return response\n",
    "\n"
   ]
  },
  {
   "cell_type": "code",
   "execution_count": null,
   "id": "b6ce5657",
   "metadata": {},
   "outputs": [],
   "source": [
    "# start with a few parameters\n",
    "classifier_param_grid=[\n",
    "    {'rf__max_depth':[3,6,9,10],\n",
    "\n",
    "    },\n",
    "    {'xgboost__n_estimators':[200,300,400],\n",
    "     'xgboost__learning_rate':[0.001,0.01,0.1,0.3],\n",
    "\n",
    "\n",
    "    },\n",
    "    {'gbc__learning_rate':[0.001,0.01,0.1,0.3,0.6],\n",
    "\n",
    "    }\n",
    "]"
   ]
  },
  {
   "cell_type": "code",
   "execution_count": 50,
   "id": "c4968c6b",
   "metadata": {},
   "outputs": [
    {
     "name": "stdout",
     "output_type": "stream",
     "text": [
      "GridSearch Best parameters: {'rf__max_depth': 9}\n",
      "GridSearch Best Score: 0.8349965823650034\n",
      "0.8020 recall\n",
      "0.9878 precision\n",
      "0.9685 accuracy\n",
      "0.8852 f1 score\n",
      "GridSearch Best parameters: {'xgboost__learning_rate': 0.1, 'xgboost__n_estimators': 200}\n",
      "GridSearch Best Score: 0.8533151059466849\n",
      "0.8218 recall\n",
      "0.9881 precision\n",
      "0.9715 accuracy\n",
      "0.8973 f1 score\n",
      "GridSearch Best parameters: {'gbc__learning_rate': 0.6}\n",
      "GridSearch Best Score: 0.8585440874914558\n",
      "0.8218 recall\n",
      "0.9651 precision\n",
      "0.9685 accuracy\n",
      "0.8877 f1 score\n"
     ]
    }
   ],
   "source": [
    "results=[]\n",
    "for model,model_name, model_param_grid in zip(classifiers, classifier_names, classifier_param_grid):\n",
    "    pipeline =Pipeline([\n",
    "        (model_name, model)\n",
    "    ])\n",
    "    result = GridSearchCV_work(pipeline=pipeline,train_x=X_train_processed_f, train_y=y_train,\n",
    "                               test_x=X_test_processed_f, test_y=y_test,\n",
    "                              param_grid= model_param_grid)\n",
    "    results.append(result)\n",
    "    \n",
    "    "
   ]
  },
  {
   "cell_type": "code",
   "execution_count": 52,
   "id": "5393d916",
   "metadata": {},
   "outputs": [],
   "source": [
    "# Accourding to the 1st round fine-tuned result,more hyper parameters are tuned\n",
    "classifier_param_grid2=[\n",
    "    {'rf__max_depth':[9],\n",
    "     'rf__n_estimators':[250,300,330],\n",
    "     'rf__bootstrap': [True, False]\n",
    "     ,'rf__max_features':['sqrt','log2']\n",
    "    },\n",
    "    {'xgboost__n_estimators':[250,300,350],\n",
    "     'xgboost__learning_rate':[0.05,0.1,0.15],  \n",
    "     'xgboost__max_depth':[5,7,9,10],\n",
    "     'xgboost__reg_lambda':[0.6,0.7,0.8],\n",
    "     'xgboost__colsample_bytree':[0.6,0.7,0.8,0.9],\n",
    "     'xgboost__scale_pos_weight':[1]\n",
    "    },\n",
    "    {\n",
    "     'gbc__learning_rate':[0.05, 0.1, 0.15],\n",
    "     'gbc__n_estimators':[100,200,300],\n",
    "     'gbc__max_depth':[6,8,9], \n",
    "     'gbc__max_features':[0.25,0.3,0.4], \n",
    "    }\n",
    "]"
   ]
  },
  {
   "cell_type": "code",
   "execution_count": 53,
   "id": "cea457a6",
   "metadata": {},
   "outputs": [
    {
     "name": "stdout",
     "output_type": "stream",
     "text": [
      "GridSearch Best parameters: {'rf__bootstrap': False, 'rf__max_depth': 9, 'rf__max_features': 'sqrt', 'rf__n_estimators': 250}\n",
      "GridSearch Best Score: 0.8428229665071768\n",
      "0.8218 recall\n",
      "0.9881 precision\n",
      "0.9715 accuracy\n",
      "0.8973 f1 score\n",
      "GridSearch Best parameters: {'xgboost__colsample_bytree': 0.7, 'xgboost__learning_rate': 0.1, 'xgboost__max_depth': 5, 'xgboost__n_estimators': 350, 'xgboost__reg_lambda': 0.8, 'xgboost__scale_pos_weight': 1}\n",
      "GridSearch Best Score: 0.8559125085440875\n",
      "0.8218 recall\n",
      "0.9881 precision\n",
      "0.9715 accuracy\n",
      "0.8973 f1 score\n",
      "GridSearch Best parameters: {'gbc__learning_rate': 0.05, 'gbc__max_depth': 6, 'gbc__max_features': 0.4, 'gbc__n_estimators': 300}\n",
      "GridSearch Best Score: 0.8559125085440875\n",
      "0.8218 recall\n",
      "0.9881 precision\n",
      "0.9715 accuracy\n",
      "0.8973 f1 score\n"
     ]
    }
   ],
   "source": [
    "results2=[]\n",
    "for model,model_name, model_param_grid in zip(classifiers, classifier_names, classifier_param_grid2):\n",
    "    pipeline =Pipeline([\n",
    "        (model_name, model)\n",
    "    ])\n",
    "    result = GridSearchCV_work(pipeline=pipeline,train_x=X_train_processed_f, train_y=y_train,\n",
    "                               test_x=X_test_processed_f, test_y=y_test,\n",
    "                              param_grid= model_param_grid)\n",
    "    results2.append(result)"
   ]
  },
  {
   "cell_type": "code",
   "execution_count": null,
   "id": "b90ab3d2",
   "metadata": {},
   "outputs": [],
   "source": [
    "# It seems the results are tied now. Focus on XGBoost to get further fine-tuned for this model \n",
    "\n",
    "\n",
    "param_grid={'n_estimators':[300,350,400,450],\n",
    "     'learning_rate':[0.1],  \n",
    "     'max_depth':[4,5,6,7],\n",
    "     'reg_lambda':[0.7,0.8,0.85],\n",
    "     'colsample_bytree':[0.65,0.7,0.75],\n",
    "     'scale_pos_weight':[1]\n",
    "    }\n",
    "xgb_clf =XGBClassifier(random_state=42, objective='binary:logistic')\n",
    "grid_search= GridSearchCV(estimator=xgb_clf, param_grid=param_grid, scoring='recall', n_jobs=4, cv=5)\n",
    "grid_search.fit(X_train_processed_f,y_train)"
   ]
  },
  {
   "cell_type": "code",
   "execution_count": 65,
   "id": "47853087",
   "metadata": {},
   "outputs": [],
   "source": [
    "def print_metrics(search, X_test, y_test):\n",
    "    print(grid_search.best_params_)\n",
    "    print(grid_search.best_score_)\n",
    "    y_predict_grid_rdt = grid_search.best_estimator_.predict(X_test)\n",
    "    print(\"%0.4f recall\"%( recall_score(y_test, y_predict_grid_rdt)))\n",
    "    print(\"%0.4f precision\"%(precision_score(y_test, y_predict_grid_rdt)))\n",
    "    print(\"%0.4f accuracy\"%(accuracy_score(y_test,y_predict_grid_rdt)))\n",
    "    print(\"%0.4f f1 score\"%(f1_score(y_test,y_predict_grid_rdt)))\n",
    "    "
   ]
  },
  {
   "cell_type": "code",
   "execution_count": 66,
   "id": "d1d0c074",
   "metadata": {},
   "outputs": [
    {
     "name": "stdout",
     "output_type": "stream",
     "text": [
      "{'colsample_bytree': 0.7, 'learning_rate': 0.1, 'max_depth': 5, 'n_estimators': 350, 'reg_lambda': 0.85, 'scale_pos_weight': 1}\n",
      "0.8585099111414902\n",
      "0.8218 recall\n",
      "0.9881 precision\n",
      "0.9715 accuracy\n",
      "0.8973 f1 score\n"
     ]
    }
   ],
   "source": [
    "print_metrics(grid_search, X_test=X_test_processed_f, y_test=y_test)\n",
    "# the best score is improved while the other are keep the same"
   ]
  },
  {
   "cell_type": "code",
   "execution_count": 76,
   "id": "87ea8914",
   "metadata": {},
   "outputs": [
    {
     "name": "stdout",
     "output_type": "stream",
     "text": [
      "{'reg_alpha': 1e-05}\n",
      "0.8585099111414902\n",
      "0.8218 recall\n",
      "0.9881 precision\n",
      "0.9715 accuracy\n",
      "0.8973 f1 score\n"
     ]
    }
   ],
   "source": [
    "param_grid = {\n",
    " 'reg_alpha':[1e-5, 1e-2, 0.1, 1, 100]\n",
    "}\n",
    "xgb_clf =XGBClassifier(random_state=42, objective='binary:logistic', colsample_bytree= 0.7,\n",
    "                       learning_rate=0.1, max_depth= 5, n_estimators= 350, reg_lambda= 0.85,\n",
    "                       scale_pos_weight= 1)\n",
    "grid_search= GridSearchCV(estimator=xgb_clf, param_grid=param_grid, scoring='recall', n_jobs=4, cv=5)\n",
    "grid_search.fit(X_train_processed_f,y_train)\n",
    "print_metrics(grid_search, X_test=X_test_processed_f, y_test=y_test)\n",
    "# Now we can see a no significant boost in performance and we've done the work in parameter tuning for now"
   ]
  },
  {
   "cell_type": "markdown",
   "id": "ad74e261",
   "metadata": {},
   "source": [
    "### Find the features related to the churn"
   ]
  },
  {
   "cell_type": "code",
   "execution_count": 79,
   "id": "f0930c17",
   "metadata": {},
   "outputs": [
    {
     "data": {
      "image/png": "[encoded data removed]",
      "text/plain": [
       "<Figure size 432x288 with 1 Axes>"
      ]
     },
     "metadata": {
      "needs_background": "light"
     },
     "output_type": "display_data"
    }
   ],
   "source": [
    "final_model = grid_search.best_estimator_\n",
    "importances = final_model.feature_importances_\n",
    "\n",
    "sorted_index= np.argsort(importances)\n",
    "labels = X_train_processed_f.columns[sorted_index]\n",
    "plt.barh(range(X_train_processed_f.shape[1]), importances[sorted_index],tick_label=labels)\n",
    "plt.title('Churn realted features importances')\n",
    "plt.show()\n",
    "\n"
   ]
  },
  {
   "cell_type": "markdown",
   "id": "a6cdf450",
   "metadata": {},
   "source": [
    "### Conclusion\n",
    "As it comes to an end,  2 key thoughts are here:\n",
    "\n",
    "* It is difficult to get a very big leap in performance by just using parameter tuning or slightly better models. The max f1 score for XGBoost, random forest and GBC are all 0.8973\n",
    "* A significant jump can be obtained by other methods like feature engineering, creating an ensemble of models, stacking, etc.\n",
    "* The final model compare to the baseline model without feature engineering, its f1 score improve 36.4%\n",
    "* Through the final model, we can find that Vmail_plan, Total_Charges, CustServ_Calls are the most important indicators of churn."
   ]
  },
  {
   "cell_type": "code",
   "execution_count": 83,
   "id": "c254e5d1",
   "metadata": {},
   "outputs": [
    {
     "data": {
      "text/plain": [
       "0.36388508891928856"
      ]
     },
     "execution_count": 83,
     "metadata": {},
     "output_type": "execute_result"
    }
   ],
   "source": [
    "(0.8973-0.6579)/0.6579"
   ]
  },
  {
   "cell_type": "code",
   "execution_count": null,
   "id": "73186939",
   "metadata": {},
   "outputs": [],
   "source": []
  },
  {
   "cell_type": "code",
   "execution_count": null,
   "id": "2cd3ccc0",
   "metadata": {},
   "outputs": [],
   "source": []
  },
  {
   "cell_type": "code",
   "execution_count": null,
   "id": "9492127a",
   "metadata": {},
   "outputs": [],
   "source": []
  },
  {
   "cell_type": "code",
   "execution_count": null,
   "id": "bc95abff",
   "metadata": {},
   "outputs": [],
   "source": []
  }
 ],
 "metadata": {
  "kernelspec": {
   "display_name": "Python 3 (ipykernel)",
   "language": "python",
   "name": "python3"
  },
  "language_info": {
   "codemirror_mode": {
    "name": "ipython",
    "version": 3
   },
   "file_extension": ".py",
   "mimetype": "text/x-python",
   "name": "python",
   "nbconvert_exporter": "python",
   "pygments_lexer": "ipython3",
   "version": "3.9.11"
  },
  "toc": {
   "base_numbering": 1,
   "nav_menu": {},
   "number_sections": true,
   "sideBar": true,
   "skip_h1_title": false,
   "title_cell": "Table of Contents",
   "title_sidebar": "Contents",
   "toc_cell": false,
   "toc_position": {
    "height": "calc(100% - 180px)",
    "left": "10px",
    "top": "150px",
    "width": "384px"
   },
   "toc_section_display": true,
   "toc_window_display": true
  },
  "varInspector": {
   "cols": {
    "lenName": 16,
    "lenType": 16,
    "lenVar": 40
   },
   "kernels_config": {
    "python": {
     "delete_cmd_postfix": "",
     "delete_cmd_prefix": "del ",
     "library": "var_list.py",
     "varRefreshCmd": "print(var_dic_list())"
    },
    "r": {
     "delete_cmd_postfix": ") ",
     "delete_cmd_prefix": "rm(",
     "library": "var_list.r",
     "varRefreshCmd": "cat(var_dic_list()) "
    }
   },
   "types_to_exclude": [
    "module",
    "function",
    "builtin_function_or_method",
    "instance",
    "_Feature"
   ],
   "window_display": false
  }
 },
 "nbformat": 4,
 "nbformat_minor": 5
}
